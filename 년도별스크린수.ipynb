{
 "cells": [
  {
   "cell_type": "code",
   "execution_count": 1,
   "id": "bc5bfb0d",
   "metadata": {},
   "outputs": [],
   "source": [
    "yea <- read.csv(\"./yearScreen.csv\", fileEncoding = \"utf-8\")"
   ]
  },
  {
   "cell_type": "code",
   "execution_count": 2,
   "id": "772c0a50",
   "metadata": {},
   "outputs": [
    {
     "data": {
      "text/html": [
       "<table>\n",
       "<thead><tr><th scope=col>년도</th><th scope=col>스크린수</th></tr></thead>\n",
       "<tbody>\n",
       "\t<tr><td>2004</td><td>1451</td></tr>\n",
       "\t<tr><td>2005</td><td>1648</td></tr>\n",
       "\t<tr><td>2006</td><td>1880</td></tr>\n",
       "\t<tr><td>2007</td><td>1975</td></tr>\n",
       "\t<tr><td>2008</td><td>2004</td></tr>\n",
       "\t<tr><td>2009</td><td>1996</td></tr>\n",
       "\t<tr><td>2010</td><td>2003</td></tr>\n",
       "\t<tr><td>2011</td><td>1974</td></tr>\n",
       "\t<tr><td>2012</td><td>2081</td></tr>\n",
       "\t<tr><td>2013</td><td>2184</td></tr>\n",
       "\t<tr><td>2014</td><td>2281</td></tr>\n",
       "\t<tr><td>2015</td><td>2424</td></tr>\n",
       "\t<tr><td>2016</td><td>2575</td></tr>\n",
       "\t<tr><td>2017</td><td>2766</td></tr>\n",
       "\t<tr><td>2018</td><td>2937</td></tr>\n",
       "\t<tr><td>2019</td><td>3079</td></tr>\n",
       "</tbody>\n",
       "</table>\n"
      ],
      "text/latex": [
       "\\begin{tabular}{r|ll}\n",
       " 년도 & 스크린수\\\\\n",
       "\\hline\n",
       "\t 2004 & 1451\\\\\n",
       "\t 2005 & 1648\\\\\n",
       "\t 2006 & 1880\\\\\n",
       "\t 2007 & 1975\\\\\n",
       "\t 2008 & 2004\\\\\n",
       "\t 2009 & 1996\\\\\n",
       "\t 2010 & 2003\\\\\n",
       "\t 2011 & 1974\\\\\n",
       "\t 2012 & 2081\\\\\n",
       "\t 2013 & 2184\\\\\n",
       "\t 2014 & 2281\\\\\n",
       "\t 2015 & 2424\\\\\n",
       "\t 2016 & 2575\\\\\n",
       "\t 2017 & 2766\\\\\n",
       "\t 2018 & 2937\\\\\n",
       "\t 2019 & 3079\\\\\n",
       "\\end{tabular}\n"
      ],
      "text/markdown": [
       "\n",
       "| 년도 | 스크린수 |\n",
       "|---|---|\n",
       "| 2004 | 1451 |\n",
       "| 2005 | 1648 |\n",
       "| 2006 | 1880 |\n",
       "| 2007 | 1975 |\n",
       "| 2008 | 2004 |\n",
       "| 2009 | 1996 |\n",
       "| 2010 | 2003 |\n",
       "| 2011 | 1974 |\n",
       "| 2012 | 2081 |\n",
       "| 2013 | 2184 |\n",
       "| 2014 | 2281 |\n",
       "| 2015 | 2424 |\n",
       "| 2016 | 2575 |\n",
       "| 2017 | 2766 |\n",
       "| 2018 | 2937 |\n",
       "| 2019 | 3079 |\n",
       "\n"
      ],
      "text/plain": [
       "   년도 스크린수\n",
       "1  2004 1451    \n",
       "2  2005 1648    \n",
       "3  2006 1880    \n",
       "4  2007 1975    \n",
       "5  2008 2004    \n",
       "6  2009 1996    \n",
       "7  2010 2003    \n",
       "8  2011 1974    \n",
       "9  2012 2081    \n",
       "10 2013 2184    \n",
       "11 2014 2281    \n",
       "12 2015 2424    \n",
       "13 2016 2575    \n",
       "14 2017 2766    \n",
       "15 2018 2937    \n",
       "16 2019 3079    "
      ]
     },
     "metadata": {},
     "output_type": "display_data"
    }
   ],
   "source": [
    "yea"
   ]
  },
  {
   "cell_type": "code",
   "execution_count": 8,
   "id": "6fbff445",
   "metadata": {},
   "outputs": [
    {
     "data": {
      "text/plain": [
       "\n",
       "Call:\n",
       "lm(formula = yea$스크린수 ~ yea$년도)\n",
       "\n",
       "Residuals:\n",
       "     Min       1Q   Median       3Q      Max \n",
       "-184.524 -108.535   -8.328  123.828  198.853 \n",
       "\n",
       "Coefficients:\n",
       "              Estimate Std. Error t value Pr(>|t|)    \n",
       "(Intercept) -1.792e+05  1.515e+04  -11.83 1.12e-08 ***\n",
       "yea$년도     9.020e+01  7.531e+00   11.98 9.58e-09 ***\n",
       "---\n",
       "Signif. codes:  0 '***' 0.001 '**' 0.01 '*' 0.05 '.' 0.1 ' ' 1\n",
       "\n",
       "Residual standard error: 138.9 on 14 degrees of freedom\n",
       "Multiple R-squared:  0.9111,\tAdjusted R-squared:  0.9047 \n",
       "F-statistic: 143.5 on 1 and 14 DF,  p-value: 9.576e-09\n"
      ]
     },
     "metadata": {},
     "output_type": "display_data"
    }
   ],
   "source": [
    "r <- lm(yea$스크린수~yea$년도);summary(r)"
   ]
  },
  {
   "cell_type": "code",
   "execution_count": 17,
   "id": "389176a2",
   "metadata": {},
   "outputs": [
    {
     "data": {
      "text/html": [
       "3274.60000000001"
      ],
      "text/latex": [
       "3274.60000000001"
      ],
      "text/markdown": [
       "3274.60000000001"
      ],
      "text/plain": [
       "[1] 3274.6"
      ]
     },
     "metadata": {},
     "output_type": "display_data"
    }
   ],
   "source": [
    "x = 2023\n",
    "y = 90.2 * x + (-1.792*(10^5))\n",
    "y"
   ]
  },
  {
   "cell_type": "code",
   "execution_count": 18,
   "id": "81e73fdc",
   "metadata": {},
   "outputs": [],
   "source": [
    "lreg <- function(year) {\n",
    "    return (90.2*year + (-1.792*(10^5)))\n",
    "}"
   ]
  },
  {
   "cell_type": "code",
   "execution_count": 23,
   "id": "95909a72",
   "metadata": {},
   "outputs": [],
   "source": [
    "res <- c()\n",
    "for (i in 2000:2050) {\n",
    "    res<- rbind(res,cbind(년도=i, 스크린수=lreg(i)))\n",
    "}"
   ]
  },
  {
   "cell_type": "code",
   "execution_count": 24,
   "id": "b0e9cc18",
   "metadata": {
    "scrolled": true
   },
   "outputs": [
    {
     "data": {
      "text/html": [
       "<table>\n",
       "<thead><tr><th scope=col>년도</th><th scope=col>스크린수</th></tr></thead>\n",
       "<tbody>\n",
       "\t<tr><td>2000  </td><td>1200.0</td></tr>\n",
       "\t<tr><td>2001  </td><td>1290.2</td></tr>\n",
       "\t<tr><td>2002  </td><td>1380.4</td></tr>\n",
       "\t<tr><td>2003  </td><td>1470.6</td></tr>\n",
       "\t<tr><td>2004  </td><td>1560.8</td></tr>\n",
       "\t<tr><td>2005  </td><td>1651.0</td></tr>\n",
       "\t<tr><td>2006  </td><td>1741.2</td></tr>\n",
       "\t<tr><td>2007  </td><td>1831.4</td></tr>\n",
       "\t<tr><td>2008  </td><td>1921.6</td></tr>\n",
       "\t<tr><td>2009  </td><td>2011.8</td></tr>\n",
       "\t<tr><td>2010  </td><td>2102.0</td></tr>\n",
       "\t<tr><td>2011  </td><td>2192.2</td></tr>\n",
       "\t<tr><td>2012  </td><td>2282.4</td></tr>\n",
       "\t<tr><td>2013  </td><td>2372.6</td></tr>\n",
       "\t<tr><td>2014  </td><td>2462.8</td></tr>\n",
       "\t<tr><td>2015  </td><td>2553.0</td></tr>\n",
       "\t<tr><td>2016  </td><td>2643.2</td></tr>\n",
       "\t<tr><td>2017  </td><td>2733.4</td></tr>\n",
       "\t<tr><td>2018  </td><td>2823.6</td></tr>\n",
       "\t<tr><td>2019  </td><td>2913.8</td></tr>\n",
       "\t<tr><td>2020  </td><td>3004.0</td></tr>\n",
       "\t<tr><td>2021  </td><td>3094.2</td></tr>\n",
       "\t<tr><td>2022  </td><td>3184.4</td></tr>\n",
       "\t<tr><td>2023  </td><td>3274.6</td></tr>\n",
       "\t<tr><td>2024  </td><td>3364.8</td></tr>\n",
       "\t<tr><td>2025  </td><td>3455.0</td></tr>\n",
       "\t<tr><td>2026  </td><td>3545.2</td></tr>\n",
       "\t<tr><td>2027  </td><td>3635.4</td></tr>\n",
       "\t<tr><td>2028  </td><td>3725.6</td></tr>\n",
       "\t<tr><td>2029  </td><td>3815.8</td></tr>\n",
       "\t<tr><td>2030  </td><td>3906.0</td></tr>\n",
       "\t<tr><td>2031  </td><td>3996.2</td></tr>\n",
       "\t<tr><td>2032  </td><td>4086.4</td></tr>\n",
       "\t<tr><td>2033  </td><td>4176.6</td></tr>\n",
       "\t<tr><td>2034  </td><td>4266.8</td></tr>\n",
       "\t<tr><td>2035  </td><td>4357.0</td></tr>\n",
       "\t<tr><td>2036  </td><td>4447.2</td></tr>\n",
       "\t<tr><td>2037  </td><td>4537.4</td></tr>\n",
       "\t<tr><td>2038  </td><td>4627.6</td></tr>\n",
       "\t<tr><td>2039  </td><td>4717.8</td></tr>\n",
       "\t<tr><td>2040  </td><td>4808.0</td></tr>\n",
       "\t<tr><td>2041  </td><td>4898.2</td></tr>\n",
       "\t<tr><td>2042  </td><td>4988.4</td></tr>\n",
       "\t<tr><td>2043  </td><td>5078.6</td></tr>\n",
       "\t<tr><td>2044  </td><td>5168.8</td></tr>\n",
       "\t<tr><td>2045  </td><td>5259.0</td></tr>\n",
       "\t<tr><td>2046  </td><td>5349.2</td></tr>\n",
       "\t<tr><td>2047  </td><td>5439.4</td></tr>\n",
       "\t<tr><td>2048  </td><td>5529.6</td></tr>\n",
       "\t<tr><td>2049  </td><td>5619.8</td></tr>\n",
       "\t<tr><td>2050  </td><td>5710.0</td></tr>\n",
       "</tbody>\n",
       "</table>\n"
      ],
      "text/latex": [
       "\\begin{tabular}{ll}\n",
       " 년도 & 스크린수\\\\\n",
       "\\hline\n",
       "\t 2000   & 1200.0\\\\\n",
       "\t 2001   & 1290.2\\\\\n",
       "\t 2002   & 1380.4\\\\\n",
       "\t 2003   & 1470.6\\\\\n",
       "\t 2004   & 1560.8\\\\\n",
       "\t 2005   & 1651.0\\\\\n",
       "\t 2006   & 1741.2\\\\\n",
       "\t 2007   & 1831.4\\\\\n",
       "\t 2008   & 1921.6\\\\\n",
       "\t 2009   & 2011.8\\\\\n",
       "\t 2010   & 2102.0\\\\\n",
       "\t 2011   & 2192.2\\\\\n",
       "\t 2012   & 2282.4\\\\\n",
       "\t 2013   & 2372.6\\\\\n",
       "\t 2014   & 2462.8\\\\\n",
       "\t 2015   & 2553.0\\\\\n",
       "\t 2016   & 2643.2\\\\\n",
       "\t 2017   & 2733.4\\\\\n",
       "\t 2018   & 2823.6\\\\\n",
       "\t 2019   & 2913.8\\\\\n",
       "\t 2020   & 3004.0\\\\\n",
       "\t 2021   & 3094.2\\\\\n",
       "\t 2022   & 3184.4\\\\\n",
       "\t 2023   & 3274.6\\\\\n",
       "\t 2024   & 3364.8\\\\\n",
       "\t 2025   & 3455.0\\\\\n",
       "\t 2026   & 3545.2\\\\\n",
       "\t 2027   & 3635.4\\\\\n",
       "\t 2028   & 3725.6\\\\\n",
       "\t 2029   & 3815.8\\\\\n",
       "\t 2030   & 3906.0\\\\\n",
       "\t 2031   & 3996.2\\\\\n",
       "\t 2032   & 4086.4\\\\\n",
       "\t 2033   & 4176.6\\\\\n",
       "\t 2034   & 4266.8\\\\\n",
       "\t 2035   & 4357.0\\\\\n",
       "\t 2036   & 4447.2\\\\\n",
       "\t 2037   & 4537.4\\\\\n",
       "\t 2038   & 4627.6\\\\\n",
       "\t 2039   & 4717.8\\\\\n",
       "\t 2040   & 4808.0\\\\\n",
       "\t 2041   & 4898.2\\\\\n",
       "\t 2042   & 4988.4\\\\\n",
       "\t 2043   & 5078.6\\\\\n",
       "\t 2044   & 5168.8\\\\\n",
       "\t 2045   & 5259.0\\\\\n",
       "\t 2046   & 5349.2\\\\\n",
       "\t 2047   & 5439.4\\\\\n",
       "\t 2048   & 5529.6\\\\\n",
       "\t 2049   & 5619.8\\\\\n",
       "\t 2050   & 5710.0\\\\\n",
       "\\end{tabular}\n"
      ],
      "text/markdown": [
       "\n",
       "| 년도 | 스크린수 |\n",
       "|---|---|\n",
       "| 2000   | 1200.0 |\n",
       "| 2001   | 1290.2 |\n",
       "| 2002   | 1380.4 |\n",
       "| 2003   | 1470.6 |\n",
       "| 2004   | 1560.8 |\n",
       "| 2005   | 1651.0 |\n",
       "| 2006   | 1741.2 |\n",
       "| 2007   | 1831.4 |\n",
       "| 2008   | 1921.6 |\n",
       "| 2009   | 2011.8 |\n",
       "| 2010   | 2102.0 |\n",
       "| 2011   | 2192.2 |\n",
       "| 2012   | 2282.4 |\n",
       "| 2013   | 2372.6 |\n",
       "| 2014   | 2462.8 |\n",
       "| 2015   | 2553.0 |\n",
       "| 2016   | 2643.2 |\n",
       "| 2017   | 2733.4 |\n",
       "| 2018   | 2823.6 |\n",
       "| 2019   | 2913.8 |\n",
       "| 2020   | 3004.0 |\n",
       "| 2021   | 3094.2 |\n",
       "| 2022   | 3184.4 |\n",
       "| 2023   | 3274.6 |\n",
       "| 2024   | 3364.8 |\n",
       "| 2025   | 3455.0 |\n",
       "| 2026   | 3545.2 |\n",
       "| 2027   | 3635.4 |\n",
       "| 2028   | 3725.6 |\n",
       "| 2029   | 3815.8 |\n",
       "| 2030   | 3906.0 |\n",
       "| 2031   | 3996.2 |\n",
       "| 2032   | 4086.4 |\n",
       "| 2033   | 4176.6 |\n",
       "| 2034   | 4266.8 |\n",
       "| 2035   | 4357.0 |\n",
       "| 2036   | 4447.2 |\n",
       "| 2037   | 4537.4 |\n",
       "| 2038   | 4627.6 |\n",
       "| 2039   | 4717.8 |\n",
       "| 2040   | 4808.0 |\n",
       "| 2041   | 4898.2 |\n",
       "| 2042   | 4988.4 |\n",
       "| 2043   | 5078.6 |\n",
       "| 2044   | 5168.8 |\n",
       "| 2045   | 5259.0 |\n",
       "| 2046   | 5349.2 |\n",
       "| 2047   | 5439.4 |\n",
       "| 2048   | 5529.6 |\n",
       "| 2049   | 5619.8 |\n",
       "| 2050   | 5710.0 |\n",
       "\n"
      ],
      "text/plain": [
       "      년도 스크린수\n",
       " [1,] 2000 1200.0  \n",
       " [2,] 2001 1290.2  \n",
       " [3,] 2002 1380.4  \n",
       " [4,] 2003 1470.6  \n",
       " [5,] 2004 1560.8  \n",
       " [6,] 2005 1651.0  \n",
       " [7,] 2006 1741.2  \n",
       " [8,] 2007 1831.4  \n",
       " [9,] 2008 1921.6  \n",
       "[10,] 2009 2011.8  \n",
       "[11,] 2010 2102.0  \n",
       "[12,] 2011 2192.2  \n",
       "[13,] 2012 2282.4  \n",
       "[14,] 2013 2372.6  \n",
       "[15,] 2014 2462.8  \n",
       "[16,] 2015 2553.0  \n",
       "[17,] 2016 2643.2  \n",
       "[18,] 2017 2733.4  \n",
       "[19,] 2018 2823.6  \n",
       "[20,] 2019 2913.8  \n",
       "[21,] 2020 3004.0  \n",
       "[22,] 2021 3094.2  \n",
       "[23,] 2022 3184.4  \n",
       "[24,] 2023 3274.6  \n",
       "[25,] 2024 3364.8  \n",
       "[26,] 2025 3455.0  \n",
       "[27,] 2026 3545.2  \n",
       "[28,] 2027 3635.4  \n",
       "[29,] 2028 3725.6  \n",
       "[30,] 2029 3815.8  \n",
       "[31,] 2030 3906.0  \n",
       "[32,] 2031 3996.2  \n",
       "[33,] 2032 4086.4  \n",
       "[34,] 2033 4176.6  \n",
       "[35,] 2034 4266.8  \n",
       "[36,] 2035 4357.0  \n",
       "[37,] 2036 4447.2  \n",
       "[38,] 2037 4537.4  \n",
       "[39,] 2038 4627.6  \n",
       "[40,] 2039 4717.8  \n",
       "[41,] 2040 4808.0  \n",
       "[42,] 2041 4898.2  \n",
       "[43,] 2042 4988.4  \n",
       "[44,] 2043 5078.6  \n",
       "[45,] 2044 5168.8  \n",
       "[46,] 2045 5259.0  \n",
       "[47,] 2046 5349.2  \n",
       "[48,] 2047 5439.4  \n",
       "[49,] 2048 5529.6  \n",
       "[50,] 2049 5619.8  \n",
       "[51,] 2050 5710.0  "
      ]
     },
     "metadata": {},
     "output_type": "display_data"
    }
   ],
   "source": [
    "res"
   ]
  },
  {
   "cell_type": "code",
   "execution_count": 25,
   "id": "fd7d5d93",
   "metadata": {},
   "outputs": [],
   "source": [
    "write.csv(res, \"./year_screen_db.csv\", row.names=F)"
   ]
  },
  {
   "cell_type": "code",
   "execution_count": 11,
   "id": "c6fc8bd9",
   "metadata": {},
   "outputs": [
    {
     "data": {
      "image/png": "[encoded data removed]",
      "text/plain": [
       "plot without title"
      ]
     },
     "metadata": {},
     "output_type": "display_data"
    }
   ],
   "source": [
    "plot(yea)\n",
    "abline(r, col = \"red\")"
   ]
  }
 ],
 "metadata": {
  "kernelspec": {
   "display_name": "R",
   "language": "R",
   "name": "ir"
  },
  "language_info": {
   "codemirror_mode": "r",
   "file_extension": ".r",
   "mimetype": "text/x-r-source",
   "name": "R",
   "pygments_lexer": "r",
   "version": "3.6.1"
  }
 },
 "nbformat": 4,
 "nbformat_minor": 5
}

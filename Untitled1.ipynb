{
 "cells": [
  {
   "cell_type": "code",
   "execution_count": 1,
   "id": "ad3ff98d",
   "metadata": {
    "scrolled": true
   },
   "outputs": [
    {
     "name": "stderr",
     "output_type": "stream",
     "text": [
      "\n",
      "Attaching package: 'dplyr'\n",
      "\n",
      "The following objects are masked from 'package:stats':\n",
      "\n",
      "    filter, lag\n",
      "\n",
      "The following objects are masked from 'package:base':\n",
      "\n",
      "    intersect, setdiff, setequal, union\n",
      "\n",
      "Registered S3 methods overwritten by 'ggplot2':\n",
      "  method         from \n",
      "  [.quosures     rlang\n",
      "  c.quosures     rlang\n",
      "  print.quosures rlang\n"
     ]
    }
   ],
   "source": [
    "# 패키지 불러오기\n",
    "\n",
    "library(httr)    # 온라인상의 데이터를 가져오기 위한 통신 기능 패키지\n",
    "library(rjson)   # JSON 처리 패키지\n",
    "library(dplyr)   # 데이터 정제 패키지\n",
    "library(ggplot2) # 데이터 정제 패키지"
   ]
  },
  {
   "cell_type": "code",
   "execution_count": 69,
   "id": "cb1c6917",
   "metadata": {},
   "outputs": [],
   "source": [
    "test <- read.csv(\"./movie2004_2019_ver2.csv\", fileEncoding = \"utf-8\", stringsAsFactors = F)"
   ]
  },
  {
   "cell_type": "code",
   "execution_count": 70,
   "id": "403e51c7",
   "metadata": {},
   "outputs": [
    {
     "name": "stdout",
     "output_type": "stream",
     "text": [
      "'data.frame':\t2703 obs. of  15 variables:\n",
      " $ 영화명      : chr  \"내사랑 싸가지\" \"말죽거리 잔혹사\" \"빙우\" \"그녀를 모르면 간첩\" ...\n",
      " $ 누적관객수  : int  296125 604969 55656 30435 40361 2544986 3074 298221 425725 119884 ...\n",
      " $ 매출액점유율: num  0.3 0.6 0.1 0 0 2.3 0 0.3 0.4 0.1 ...\n",
      " $ 누적매출액  : num  1.84e+09 3.84e+09 3.63e+08 1.88e+08 2.51e+08 ...\n",
      " $ 스크린수    : int  22 40 18 22 17 115 13 25 25 26 ...\n",
      " $ 매출액      : num  1.84e+09 3.84e+09 3.63e+08 1.88e+08 2.51e+08 ...\n",
      " $ 관객수      : int  296125 604969 55656 30435 40361 2544986 3074 298221 425725 119884 ...\n",
      " $ 상영횟수    : int  2967 5513 1015 822 864 22376 252 4664 6239 3015 ...\n",
      " $ 개봉일      : chr  \"2004-01-16\" \"2004-01-16\" \"2004-01-16\" \"2004-01-30\" ...\n",
      " $ 제작사      : chr  \"제이웰엔터테인먼트(주)\" \"(주)싸이더스\" \"쿠앤필름(주)\" \"(주)엠쓰리엔터테인먼트\" ...\n",
      " $ 배급사      : chr  \"(주)시네마서비스\" \"CJ ENM\" \"(주)쇼박스\" \"(주)쇼박스\" ...\n",
      " $ 등급        : chr  \"12세관람가\" \"15세관람가\" \"12세관람가\" \"15세관람가\" ...\n",
      " $ 장르        : chr  \"코미디\" \"액션\" \"드라마\" \"코미디\" ...\n",
      " $ 감독        : chr  \"신동엽\" \"유하\" \"김은숙\" \"박한준\" ...\n",
      " $ 배우        : chr  \"김재원\" \"권상우\" \"김하늘\" \"공유\" ...\n"
     ]
    }
   ],
   "source": [
    "str(test)"
   ]
  },
  {
   "cell_type": "code",
   "execution_count": 71,
   "id": "60a80a41",
   "metadata": {},
   "outputs": [],
   "source": [
    "library(dplyr)"
   ]
  },
  {
   "cell_type": "code",
   "execution_count": 72,
   "id": "5c45aa84",
   "metadata": {},
   "outputs": [],
   "source": [
    "test <- arrange(test, desc(누적관객수))"
   ]
  },
  {
   "cell_type": "code",
   "execution_count": 73,
   "id": "70952755",
   "metadata": {},
   "outputs": [
    {
     "data": {
      "text/html": [
       "<table>\n",
       "<thead><tr><th scope=col>영화명</th><th scope=col>개봉일</th></tr></thead>\n",
       "<tbody>\n",
       "\t<tr><td>명량            </td><td>2014-07-30      </td></tr>\n",
       "\t<tr><td>극한직업        </td><td>2019-01-23      </td></tr>\n",
       "\t<tr><td>신과함께-죄와 벌</td><td>2017-12-20      </td></tr>\n",
       "\t<tr><td>국제시장        </td><td>2014-12-17      </td></tr>\n",
       "\t<tr><td>베테랑          </td><td>2015-08-05      </td></tr>\n",
       "\t<tr><td>도둑들          </td><td>2012-07-25      </td></tr>\n",
       "</tbody>\n",
       "</table>\n"
      ],
      "text/latex": [
       "\\begin{tabular}{r|ll}\n",
       " 영화명 & 개봉일\\\\\n",
       "\\hline\n",
       "\t 명량             & 2014-07-30      \\\\\n",
       "\t 극한직업         & 2019-01-23      \\\\\n",
       "\t 신과함께-죄와 벌 & 2017-12-20      \\\\\n",
       "\t 국제시장         & 2014-12-17      \\\\\n",
       "\t 베테랑           & 2015-08-05      \\\\\n",
       "\t 도둑들           & 2012-07-25      \\\\\n",
       "\\end{tabular}\n"
      ],
      "text/markdown": [
       "\n",
       "| 영화명 | 개봉일 |\n",
       "|---|---|\n",
       "| 명량             | 2014-07-30       |\n",
       "| 극한직업         | 2019-01-23       |\n",
       "| 신과함께-죄와 벌 | 2017-12-20       |\n",
       "| 국제시장         | 2014-12-17       |\n",
       "| 베테랑           | 2015-08-05       |\n",
       "| 도둑들           | 2012-07-25       |\n",
       "\n"
      ],
      "text/plain": [
       "  영화명           개봉일    \n",
       "1 명량             2014-07-30\n",
       "2 극한직업         2019-01-23\n",
       "3 신과함께-죄와 벌 2017-12-20\n",
       "4 국제시장         2014-12-17\n",
       "5 베테랑           2015-08-05\n",
       "6 도둑들           2012-07-25"
      ]
     },
     "metadata": {},
     "output_type": "display_data"
    }
   ],
   "source": [
    "test <- subset(test, select = c(영화명, 개봉일))\n",
    "head(test)"
   ]
  },
  {
   "cell_type": "code",
   "execution_count": 4,
   "id": "c2e15551",
   "metadata": {},
   "outputs": [],
   "source": [
    "library(stringr)"
   ]
  },
  {
   "cell_type": "code",
   "execution_count": 74,
   "id": "c2d193a3",
   "metadata": {},
   "outputs": [],
   "source": [
    "test$개봉일 <- str_replace_all(test$개봉일,\"-\",\"\")"
   ]
  },
  {
   "cell_type": "code",
   "execution_count": 75,
   "id": "5d925a9a",
   "metadata": {
    "scrolled": true
   },
   "outputs": [
    {
     "data": {
      "text/html": [
       "<table>\n",
       "<thead><tr><th scope=col>영화명</th><th scope=col>개봉일</th></tr></thead>\n",
       "<tbody>\n",
       "\t<tr><td>명량                </td><td>20140730            </td></tr>\n",
       "\t<tr><td>극한직업            </td><td>20190123            </td></tr>\n",
       "\t<tr><td>신과함께-죄와 벌    </td><td>20171220            </td></tr>\n",
       "\t<tr><td>국제시장            </td><td>20141217            </td></tr>\n",
       "\t<tr><td>베테랑              </td><td>20150805            </td></tr>\n",
       "\t<tr><td>도둑들              </td><td>20120725            </td></tr>\n",
       "\t<tr><td>7번방의 선물        </td><td>20130123            </td></tr>\n",
       "\t<tr><td>암살                </td><td>20150722            </td></tr>\n",
       "\t<tr><td>광해, 왕이 된 남자  </td><td>20120913            </td></tr>\n",
       "\t<tr><td>신과함께-인과 연    </td><td>20180801            </td></tr>\n",
       "\t<tr><td>택시운전사          </td><td>20170802            </td></tr>\n",
       "\t<tr><td>부산행              </td><td>20160720            </td></tr>\n",
       "\t<tr><td>변호인              </td><td>20131218            </td></tr>\n",
       "\t<tr><td>해운대              </td><td>20090722            </td></tr>\n",
       "\t<tr><td>괴물                </td><td>20060727            </td></tr>\n",
       "\t<tr><td>왕의 남자           </td><td>20051229            </td></tr>\n",
       "\t<tr><td>기생충              </td><td>20190530            </td></tr>\n",
       "\t<tr><td>검사외전            </td><td>20160203            </td></tr>\n",
       "\t<tr><td>엑시트              </td><td>20190731            </td></tr>\n",
       "\t<tr><td>설국열차            </td><td>20130801            </td></tr>\n",
       "\t<tr><td>관상                </td><td>20130911            </td></tr>\n",
       "\t<tr><td>해적: 바다로 간 산적</td><td>20140806            </td></tr>\n",
       "\t<tr><td>수상한 그녀         </td><td>20140122            </td></tr>\n",
       "\t<tr><td>과속스캔들          </td><td>20081203            </td></tr>\n",
       "\t<tr><td>국가대표            </td><td>20090729            </td></tr>\n",
       "\t<tr><td>디워                </td><td>20070801            </td></tr>\n",
       "\t<tr><td>공조                </td><td>20170118            </td></tr>\n",
       "\t<tr><td>히말라야            </td><td>20151216            </td></tr>\n",
       "\t<tr><td>밀정                </td><td>20160907            </td></tr>\n",
       "\t<tr><td>최종병기 활         </td><td>20110810            </td></tr>\n",
       "\t<tr><td>...</td><td>...</td></tr>\n",
       "\t<tr><td>아내의 동창회 2 무삭제         </td><td>20191210                       </td></tr>\n",
       "\t<tr><td>동생의여자친구-무삭제          </td><td>20191211                       </td></tr>\n",
       "\t<tr><td>동생의 젊은 아내               </td><td>20191212                       </td></tr>\n",
       "\t<tr><td>불륜 며느리 무삭제             </td><td>20191212                       </td></tr>\n",
       "\t<tr><td>여자 하숙집 3 무삭제           </td><td>20191212                       </td></tr>\n",
       "\t<tr><td>젊은 형수와 처제               </td><td>20191212                       </td></tr>\n",
       "\t<tr><td>깡패들 무삭제                  </td><td>20191213                       </td></tr>\n",
       "\t<tr><td>선배부부와교환섹스             </td><td>20191213                       </td></tr>\n",
       "\t<tr><td>잘 주는 외국녀들               </td><td>20191213                       </td></tr>\n",
       "\t<tr><td>스와핑 : 상사의 아내           </td><td>20191218                       </td></tr>\n",
       "\t<tr><td>스토커 : 페르소나              </td><td>20191218                       </td></tr>\n",
       "\t<tr><td>스토커 1/2                     </td><td>20191218                       </td></tr>\n",
       "\t<tr><td>내 아내는 왜! 바람이 났을까?   </td><td>20191220                       </td></tr>\n",
       "\t<tr><td>동생의애인들                   </td><td>20191220                       </td></tr>\n",
       "\t<tr><td>변태 섹스 병동                 </td><td>20191220                       </td></tr>\n",
       "\t<tr><td>정사: 딸의 친구들              </td><td>20191223                       </td></tr>\n",
       "\t<tr><td>친구 아내들                    </td><td>20191223                       </td></tr>\n",
       "\t<tr><td>룸싸롱 : 맛있는 서비스 2 무삭제</td><td>20191224                       </td></tr>\n",
       "\t<tr><td>밀회 : 동생 아내               </td><td>20191224                       </td></tr>\n",
       "\t<tr><td>불륜: 친구의 아내들            </td><td>20191224                       </td></tr>\n",
       "\t<tr><td>불여시:일본 여직원의 질투      </td><td>20191224                       </td></tr>\n",
       "\t<tr><td>젊은 엄마 친구 2 무삭제        </td><td>20191224                       </td></tr>\n",
       "\t<tr><td>아내가 그놈에게 당했다         </td><td>20191226                       </td></tr>\n",
       "\t<tr><td>정사 2019                      </td><td>20191226                       </td></tr>\n",
       "\t<tr><td>시월드 무삭제                  </td><td>20191227                       </td></tr>\n",
       "\t<tr><td>식모: 아내의 친구-비하인드     </td><td>20191227                       </td></tr>\n",
       "\t<tr><td>어린 식모-비하인드             </td><td>20191227                       </td></tr>\n",
       "\t<tr><td>옆집누나의맛                   </td><td>20191227                       </td></tr>\n",
       "\t<tr><td>음란한 그녀의 색스런 이야기    </td><td>20191227                       </td></tr>\n",
       "\t<tr><td>사랑해요 장모님                </td><td>20191231                       </td></tr>\n",
       "</tbody>\n",
       "</table>\n"
      ],
      "text/latex": [
       "\\begin{tabular}{r|ll}\n",
       " 영화명 & 개봉일\\\\\n",
       "\\hline\n",
       "\t 명량                 & 20140730            \\\\\n",
       "\t 극한직업             & 20190123            \\\\\n",
       "\t 신과함께-죄와 벌     & 20171220            \\\\\n",
       "\t 국제시장             & 20141217            \\\\\n",
       "\t 베테랑               & 20150805            \\\\\n",
       "\t 도둑들               & 20120725            \\\\\n",
       "\t 7번방의 선물         & 20130123            \\\\\n",
       "\t 암살                 & 20150722            \\\\\n",
       "\t 광해, 왕이 된 남자   & 20120913            \\\\\n",
       "\t 신과함께-인과 연     & 20180801            \\\\\n",
       "\t 택시운전사           & 20170802            \\\\\n",
       "\t 부산행               & 20160720            \\\\\n",
       "\t 변호인               & 20131218            \\\\\n",
       "\t 해운대               & 20090722            \\\\\n",
       "\t 괴물                 & 20060727            \\\\\n",
       "\t 왕의 남자            & 20051229            \\\\\n",
       "\t 기생충               & 20190530            \\\\\n",
       "\t 검사외전             & 20160203            \\\\\n",
       "\t 엑시트               & 20190731            \\\\\n",
       "\t 설국열차             & 20130801            \\\\\n",
       "\t 관상                 & 20130911            \\\\\n",
       "\t 해적: 바다로 간 산적 & 20140806            \\\\\n",
       "\t 수상한 그녀          & 20140122            \\\\\n",
       "\t 과속스캔들           & 20081203            \\\\\n",
       "\t 국가대표             & 20090729            \\\\\n",
       "\t 디워                 & 20070801            \\\\\n",
       "\t 공조                 & 20170118            \\\\\n",
       "\t 히말라야             & 20151216            \\\\\n",
       "\t 밀정                 & 20160907            \\\\\n",
       "\t 최종병기 활          & 20110810            \\\\\n",
       "\t ... & ...\\\\\n",
       "\t 아내의 동창회 2 무삭제          & 20191210                       \\\\\n",
       "\t 동생의여자친구-무삭제           & 20191211                       \\\\\n",
       "\t 동생의 젊은 아내                & 20191212                       \\\\\n",
       "\t 불륜 며느리 무삭제              & 20191212                       \\\\\n",
       "\t 여자 하숙집 3 무삭제            & 20191212                       \\\\\n",
       "\t 젊은 형수와 처제                & 20191212                       \\\\\n",
       "\t 깡패들 무삭제                   & 20191213                       \\\\\n",
       "\t 선배부부와교환섹스              & 20191213                       \\\\\n",
       "\t 잘 주는 외국녀들                & 20191213                       \\\\\n",
       "\t 스와핑 : 상사의 아내            & 20191218                       \\\\\n",
       "\t 스토커 : 페르소나               & 20191218                       \\\\\n",
       "\t 스토커 1/2                      & 20191218                       \\\\\n",
       "\t 내 아내는 왜! 바람이 났을까?    & 20191220                       \\\\\n",
       "\t 동생의애인들                    & 20191220                       \\\\\n",
       "\t 변태 섹스 병동                  & 20191220                       \\\\\n",
       "\t 정사: 딸의 친구들               & 20191223                       \\\\\n",
       "\t 친구 아내들                     & 20191223                       \\\\\n",
       "\t 룸싸롱 : 맛있는 서비스 2 무삭제 & 20191224                       \\\\\n",
       "\t 밀회 : 동생 아내                & 20191224                       \\\\\n",
       "\t 불륜: 친구의 아내들             & 20191224                       \\\\\n",
       "\t 불여시:일본 여직원의 질투       & 20191224                       \\\\\n",
       "\t 젊은 엄마 친구 2 무삭제         & 20191224                       \\\\\n",
       "\t 아내가 그놈에게 당했다          & 20191226                       \\\\\n",
       "\t 정사 2019                       & 20191226                       \\\\\n",
       "\t 시월드 무삭제                   & 20191227                       \\\\\n",
       "\t 식모: 아내의 친구-비하인드      & 20191227                       \\\\\n",
       "\t 어린 식모-비하인드              & 20191227                       \\\\\n",
       "\t 옆집누나의맛                    & 20191227                       \\\\\n",
       "\t 음란한 그녀의 색스런 이야기     & 20191227                       \\\\\n",
       "\t 사랑해요 장모님                 & 20191231                       \\\\\n",
       "\\end{tabular}\n"
      ],
      "text/markdown": [
       "\n",
       "| 영화명 | 개봉일 |\n",
       "|---|---|\n",
       "| 명량                 | 20140730             |\n",
       "| 극한직업             | 20190123             |\n",
       "| 신과함께-죄와 벌     | 20171220             |\n",
       "| 국제시장             | 20141217             |\n",
       "| 베테랑               | 20150805             |\n",
       "| 도둑들               | 20120725             |\n",
       "| 7번방의 선물         | 20130123             |\n",
       "| 암살                 | 20150722             |\n",
       "| 광해, 왕이 된 남자   | 20120913             |\n",
       "| 신과함께-인과 연     | 20180801             |\n",
       "| 택시운전사           | 20170802             |\n",
       "| 부산행               | 20160720             |\n",
       "| 변호인               | 20131218             |\n",
       "| 해운대               | 20090722             |\n",
       "| 괴물                 | 20060727             |\n",
       "| 왕의 남자            | 20051229             |\n",
       "| 기생충               | 20190530             |\n",
       "| 검사외전             | 20160203             |\n",
       "| 엑시트               | 20190731             |\n",
       "| 설국열차             | 20130801             |\n",
       "| 관상                 | 20130911             |\n",
       "| 해적: 바다로 간 산적 | 20140806             |\n",
       "| 수상한 그녀          | 20140122             |\n",
       "| 과속스캔들           | 20081203             |\n",
       "| 국가대표             | 20090729             |\n",
       "| 디워                 | 20070801             |\n",
       "| 공조                 | 20170118             |\n",
       "| 히말라야             | 20151216             |\n",
       "| 밀정                 | 20160907             |\n",
       "| 최종병기 활          | 20110810             |\n",
       "| ... | ... |\n",
       "| 아내의 동창회 2 무삭제          | 20191210                        |\n",
       "| 동생의여자친구-무삭제           | 20191211                        |\n",
       "| 동생의 젊은 아내                | 20191212                        |\n",
       "| 불륜 며느리 무삭제              | 20191212                        |\n",
       "| 여자 하숙집 3 무삭제            | 20191212                        |\n",
       "| 젊은 형수와 처제                | 20191212                        |\n",
       "| 깡패들 무삭제                   | 20191213                        |\n",
       "| 선배부부와교환섹스              | 20191213                        |\n",
       "| 잘 주는 외국녀들                | 20191213                        |\n",
       "| 스와핑 : 상사의 아내            | 20191218                        |\n",
       "| 스토커 : 페르소나               | 20191218                        |\n",
       "| 스토커 1/2                      | 20191218                        |\n",
       "| 내 아내는 왜! 바람이 났을까?    | 20191220                        |\n",
       "| 동생의애인들                    | 20191220                        |\n",
       "| 변태 섹스 병동                  | 20191220                        |\n",
       "| 정사: 딸의 친구들               | 20191223                        |\n",
       "| 친구 아내들                     | 20191223                        |\n",
       "| 룸싸롱 : 맛있는 서비스 2 무삭제 | 20191224                        |\n",
       "| 밀회 : 동생 아내                | 20191224                        |\n",
       "| 불륜: 친구의 아내들             | 20191224                        |\n",
       "| 불여시:일본 여직원의 질투       | 20191224                        |\n",
       "| 젊은 엄마 친구 2 무삭제         | 20191224                        |\n",
       "| 아내가 그놈에게 당했다          | 20191226                        |\n",
       "| 정사 2019                       | 20191226                        |\n",
       "| 시월드 무삭제                   | 20191227                        |\n",
       "| 식모: 아내의 친구-비하인드      | 20191227                        |\n",
       "| 어린 식모-비하인드              | 20191227                        |\n",
       "| 옆집누나의맛                    | 20191227                        |\n",
       "| 음란한 그녀의 색스런 이야기     | 20191227                        |\n",
       "| 사랑해요 장모님                 | 20191231                        |\n",
       "\n"
      ],
      "text/plain": [
       "     영화명                          개봉일  \n",
       "1    명량                            20140730\n",
       "2    극한직업                        20190123\n",
       "3    신과함께-죄와 벌                20171220\n",
       "4    국제시장                        20141217\n",
       "5    베테랑                          20150805\n",
       "6    도둑들                          20120725\n",
       "7    7번방의 선물                    20130123\n",
       "8    암살                            20150722\n",
       "9    광해, 왕이 된 남자              20120913\n",
       "10   신과함께-인과 연                20180801\n",
       "11   택시운전사                      20170802\n",
       "12   부산행                          20160720\n",
       "13   변호인                          20131218\n",
       "14   해운대                          20090722\n",
       "15   괴물                            20060727\n",
       "16   왕의 남자                       20051229\n",
       "17   기생충                          20190530\n",
       "18   검사외전                        20160203\n",
       "19   엑시트                          20190731\n",
       "20   설국열차                        20130801\n",
       "21   관상                            20130911\n",
       "22   해적: 바다로 간 산적            20140806\n",
       "23   수상한 그녀                     20140122\n",
       "24   과속스캔들                      20081203\n",
       "25   국가대표                        20090729\n",
       "26   디워                            20070801\n",
       "27   공조                            20170118\n",
       "28   히말라야                        20151216\n",
       "29   밀정                            20160907\n",
       "30   최종병기 활                     20110810\n",
       "...  ...                             ...     \n",
       "2674 아내의 동창회 2 무삭제          20191210\n",
       "2675 동생의여자친구-무삭제           20191211\n",
       "2676 동생의 젊은 아내                20191212\n",
       "2677 불륜 며느리 무삭제              20191212\n",
       "2678 여자 하숙집 3 무삭제            20191212\n",
       "2679 젊은 형수와 처제                20191212\n",
       "2680 깡패들 무삭제                   20191213\n",
       "2681 선배부부와교환섹스              20191213\n",
       "2682 잘 주는 외국녀들                20191213\n",
       "2683 스와핑 : 상사의 아내            20191218\n",
       "2684 스토커 : 페르소나               20191218\n",
       "2685 스토커 1/2                      20191218\n",
       "2686 내 아내는 왜! 바람이 났을까?    20191220\n",
       "2687 동생의애인들                    20191220\n",
       "2688 변태 섹스 병동                  20191220\n",
       "2689 정사: 딸의 친구들               20191223\n",
       "2690 친구 아내들                     20191223\n",
       "2691 룸싸롱 : 맛있는 서비스 2 무삭제 20191224\n",
       "2692 밀회 : 동생 아내                20191224\n",
       "2693 불륜: 친구의 아내들             20191224\n",
       "2694 불여시:일본 여직원의 질투       20191224\n",
       "2695 젊은 엄마 친구 2 무삭제         20191224\n",
       "2696 아내가 그놈에게 당했다          20191226\n",
       "2697 정사 2019                       20191226\n",
       "2698 시월드 무삭제                   20191227\n",
       "2699 식모: 아내의 친구-비하인드      20191227\n",
       "2700 어린 식모-비하인드              20191227\n",
       "2701 옆집누나의맛                    20191227\n",
       "2702 음란한 그녀의 색스런 이야기     20191227\n",
       "2703 사랑해요 장모님                 20191231"
      ]
     },
     "metadata": {},
     "output_type": "display_data"
    }
   ],
   "source": [
    "test"
   ]
  },
  {
   "cell_type": "code",
   "execution_count": 80,
   "id": "90b78260",
   "metadata": {},
   "outputs": [],
   "source": [
    "# 영화 진흥원에서 발급받은 API키\n",
    "kobis_api_key = \"01ceda84c7342c6e198320e8cd9ceb58\"\n",
    "\n",
    "# 조회 시작 개봉 연도\n",
    "targetDt = test$개봉일[1]\n",
    "multiMovieYn = \"N\"\n",
    "itemPerPage = \"100\"\n",
    "repNationCd = \"K\" # 한국 코드"
   ]
  },
  {
   "cell_type": "code",
   "execution_count": 8,
   "id": "30d7f1aa",
   "metadata": {},
   "outputs": [],
   "source": [
    "# 총 개수를 가져오기 위한 변수 선언\n",
    "temp_api_url = \"http://www.kobis.or.kr/kobisopenapi/webservice/rest/boxoffice/searchDailyBoxOfficeList.json?key=%s&targetDt=%s&multiMovieYn=%s&itemPerPage=%s&repNationCd=%s\"\n",
    "temp_url <- sprintf(temp_api_url, kobis_api_key, targetDt, multiMovieYn, itemPerPage, repNationCd)\n",
    "temp_resp <- GET(temp_url)\n",
    "temp_resp_dat <- content(temp_resp, as=\"parse\", encoding=\"utf-8\")"
   ]
  },
  {
   "cell_type": "code",
   "execution_count": 9,
   "id": "ae939917",
   "metadata": {},
   "outputs": [],
   "source": [
    "result = c()\n",
    "for (i in 1:length(temp_resp_dat$boxOfficeResult$dailyBoxOfficeList)) {\n",
    "    if(temp_resp_dat$boxOfficeResult$dailyBoxOfficeList[[i]]$movieNm == test$영화명[1]) {\n",
    "        result <- append(result, temp_resp_dat$boxOfficeResult$dailyBoxOfficeList[[i]]$scrnCnt)\n",
    "    }\n",
    "}"
   ]
  },
  {
   "cell_type": "code",
   "execution_count": 10,
   "id": "3a83a1ed",
   "metadata": {},
   "outputs": [
    {
     "data": {
      "text/html": [
       "'20'"
      ],
      "text/latex": [
       "'20'"
      ],
      "text/markdown": [
       "'20'"
      ],
      "text/plain": [
       "[1] \"20\""
      ]
     },
     "metadata": {},
     "output_type": "display_data"
    }
   ],
   "source": [
    "result"
   ]
  },
  {
   "cell_type": "code",
   "execution_count": 14,
   "id": "9d64a5ca",
   "metadata": {},
   "outputs": [
    {
     "ename": "ERROR",
     "evalue": "Error in if (temp_resp_dat$boxOfficeResult$dailyBoxOfficeList[[i]]$movieNm == : 인자의 길이가 0입니다\n",
     "output_type": "error",
     "traceback": [
      "Error in if (temp_resp_dat$boxOfficeResult$dailyBoxOfficeList[[i]]$movieNm == : 인자의 길이가 0입니다\nTraceback:\n"
     ]
    }
   ],
   "source": [
    "result = c()\n",
    "for (j in 1:nrow(test)) {\n",
    "    targetDt = test$개봉일[j]\n",
    "    # 총 개수를 가져오기 위한 변수 선언\n",
    "    temp_api_url = \"http://www.kobis.or.kr/kobisopenapi/webservice/rest/boxoffice/searchDailyBoxOfficeList.json?key=%s&targetDt=%s&multiMovieYn=%s&itemPerPage=%s&repNationCd=%s\"\n",
    "    temp_url <- sprintf(temp_api_url, kobis_api_key, targetDt, multiMovieYn, itemPerPage, repNationCd)\n",
    "    temp_resp <- GET(temp_url)\n",
    "    temp_resp_dat <- content(temp_resp, as=\"parse\", encoding=\"utf-8\")\n",
    "    for (i in 1:length(temp_resp_dat$boxOfficeResult$dailyBoxOfficeList)) {\n",
    "        if(temp_resp_dat$boxOfficeResult$dailyBoxOfficeList[[i]]$movieNm == test$영화명[j]) {\n",
    "            result <- append(result, temp_resp_dat$boxOfficeResult$dailyBoxOfficeList[[i]]$scrnCnt)\n",
    "        }\n",
    "    }\n",
    "}"
   ]
  },
  {
   "cell_type": "code",
   "execution_count": null,
   "id": "aeb58366",
   "metadata": {},
   "outputs": [],
   "source": [
    "length(result)"
   ]
  },
  {
   "cell_type": "code",
   "execution_count": null,
   "id": "3a4bfb01",
   "metadata": {},
   "outputs": [],
   "source": [
    "nrow(test)"
   ]
  },
  {
   "cell_type": "code",
   "execution_count": 13,
   "id": "aa682275",
   "metadata": {},
   "outputs": [
    {
     "data": {
      "text/html": [
       "<strong>$faultInfo</strong> = <dl>\n",
       "\t<dt>$message</dt>\n",
       "\t\t<dd>'키의 하루 이용량을 초과하였습니다.'</dd>\n",
       "\t<dt>$errorCode</dt>\n",
       "\t\t<dd>'320011'</dd>\n",
       "</dl>\n"
      ],
      "text/latex": [
       "\\textbf{\\$faultInfo} = \\begin{description}\n",
       "\\item[\\$message] '키의 하루 이용량을 초과하였습니다.'\n",
       "\\item[\\$errorCode] '320011'\n",
       "\\end{description}\n"
      ],
      "text/markdown": [
       "**$faultInfo** = $message\n",
       ":   '키의 하루 이용량을 초과하였습니다.'\n",
       "$errorCode\n",
       ":   '320011'\n",
       "\n",
       "\n"
      ],
      "text/plain": [
       "$faultInfo\n",
       "$faultInfo$message\n",
       "[1] \"키의 하루 이용량을 초과하였습니다.\"\n",
       "\n",
       "$faultInfo$errorCode\n",
       "[1] \"320011\"\n",
       "\n"
      ]
     },
     "metadata": {},
     "output_type": "display_data"
    },
    {
     "ename": "ERROR",
     "evalue": "Error in if (temp_resp_dat$boxOfficeResult$dailyBoxOfficeList[[i]]$movieNm == : 인자의 길이가 0입니다\n",
     "output_type": "error",
     "traceback": [
      "Error in if (temp_resp_dat$boxOfficeResult$dailyBoxOfficeList[[i]]$movieNm == : 인자의 길이가 0입니다\nTraceback:\n"
     ]
    }
   ],
   "source": [
    "    targetDt = test$개봉일[1]\n",
    "    # 총 개수를 가져오기 위한 변수 선언\n",
    "    temp_api_url = \"http://www.kobis.or.kr/kobisopenapi/webservice/rest/boxoffice/searchDailyBoxOfficeList.json?key=%s&targetDt=%s&multiMovieYn=%s&itemPerPage=%s&repNationCd=%s\"\n",
    "    temp_url <- sprintf(temp_api_url, kobis_api_key, targetDt, multiMovieYn, itemPerPage, repNationCd)\n",
    "    temp_resp <- GET(temp_url)\n",
    "    temp_resp_dat <- content(temp_resp, as=\"parse\", encoding=\"utf-8\")\n",
    "    temp_resp_dat\n",
    "    for (i in 1:length(temp_resp_dat$boxOfficeResult$dailyBoxOfficeList)) {\n",
    "        if(temp_resp_dat$boxOfficeResult$dailyBoxOfficeList[[i]]$movieNm == test$영화명[1]) {\n",
    "            result <- append(result, temp_resp_dat$boxOfficeResult$dailyBoxOfficeList[[i]]$scrnCnt)\n",
    "        } else {\n",
    "            print(test$영화명[1])\n",
    "        }\n",
    "    }"
   ]
  },
  {
   "cell_type": "code",
   "execution_count": 16,
   "id": "a130bc0b",
   "metadata": {},
   "outputs": [
    {
     "data": {
      "text/html": [
       "1357"
      ],
      "text/latex": [
       "1357"
      ],
      "text/markdown": [
       "1357"
      ],
      "text/plain": [
       "[1] 1357"
      ]
     },
     "metadata": {},
     "output_type": "display_data"
    }
   ],
   "source": [
    "length(unique(test$개봉일))"
   ]
  },
  {
   "cell_type": "code",
   "execution_count": 17,
   "id": "092c1525",
   "metadata": {},
   "outputs": [
    {
     "data": {
      "text/html": [
       "'20040116'"
      ],
      "text/latex": [
       "'20040116'"
      ],
      "text/markdown": [
       "'20040116'"
      ],
      "text/plain": [
       "[1] \"20040116\""
      ]
     },
     "metadata": {},
     "output_type": "display_data"
    }
   ],
   "source": [
    "unique(test$개봉일)[1]"
   ]
  },
  {
   "cell_type": "code",
   "execution_count": 20,
   "id": "a9b861a6",
   "metadata": {},
   "outputs": [],
   "source": [
    "result <- rbind(result,data.frame(개봉일='20040116', 영화명 = \"1\", 스크린수 = \"1\"))"
   ]
  },
  {
   "cell_type": "code",
   "execution_count": 21,
   "id": "748c22d1",
   "metadata": {},
   "outputs": [],
   "source": [
    "# 영화 진흥원에서 발급받은 API키\n",
    "kobis_api_key = \"67dee25280fb3ee8057fd9a57d5f7801\"\n",
    "\n",
    "# 조회 시작 개봉 연도\n",
    "multiMovieYn = \"N\"\n",
    "itemPerPage = \"10\"\n",
    "repNationCd = \"K\" # 한국 코드"
   ]
  },
  {
   "cell_type": "code",
   "execution_count": 22,
   "id": "04810d3e",
   "metadata": {},
   "outputs": [],
   "source": [
    "result = c()\n",
    "for (j in 1:length(unique(test$개봉일))) {\n",
    "    targetDt = unique(test$개봉일)[j]\n",
    "    # 총 개수를 가져오기 위한 변수 선언\n",
    "    temp_api_url = \"http://www.kobis.or.kr/kobisopenapi/webservice/rest/boxoffice/searchDailyBoxOfficeList.json?key=%s&targetDt=%s&multiMovieYn=%s&itemPerPage=%s&repNationCd=%s\"\n",
    "    temp_url <- sprintf(temp_api_url, kobis_api_key, targetDt, multiMovieYn, itemPerPage, repNationCd)\n",
    "    temp_resp <- GET(temp_url)\n",
    "    temp_resp_dat <- content(temp_resp, as=\"parse\", encoding=\"utf-8\")\n",
    "    for (i in 1:length(temp_resp_dat$boxOfficeResult$dailyBoxOfficeList)) {\n",
    "        result <- rbind(result,data.frame(개봉일=unique(test$개봉일)[j], 영화명 = temp_resp_dat$boxOfficeResult$dailyBoxOfficeList[[i]]$movieNm, 스크린수 = temp_resp_dat$boxOfficeResult$dailyBoxOfficeList[[i]]$scrnCnt))\n",
    "    }\n",
    "}"
   ]
  },
  {
   "cell_type": "code",
   "execution_count": 23,
   "id": "7c0a7d76",
   "metadata": {
    "scrolled": true
   },
   "outputs": [
    {
     "data": {
      "text/html": [
       "<table>\n",
       "<thead><tr><th scope=col>개봉일</th><th scope=col>영화명</th><th scope=col>스크린수</th></tr></thead>\n",
       "<tbody>\n",
       "\t<tr><td>20040116                                                  </td><td>말죽거리 잔혹사                                           </td><td>37                                                        </td></tr>\n",
       "\t<tr><td>20040116                                                  </td><td>실미도                                                    </td><td>28                                                        </td></tr>\n",
       "\t<tr><td>20040116                                                  </td><td>내사랑 싸가지                                             </td><td>20                                                        </td></tr>\n",
       "\t<tr><td>20040116                                                  </td><td>빙우                                                      </td><td>16                                                        </td></tr>\n",
       "\t<tr><td>20040116                                                  </td><td>동해물과 백두산이                                         </td><td>1                                                         </td></tr>\n",
       "\t<tr><td>20040130                                                  </td><td>실미도                                                    </td><td>28                                                        </td></tr>\n",
       "\t<tr><td>20040130                                                  </td><td>말죽거리 잔혹사                                           </td><td>24                                                        </td></tr>\n",
       "\t<tr><td>20040130                                                  </td><td>내사랑 싸가지                                             </td><td>16                                                        </td></tr>\n",
       "\t<tr><td>20040130                                                  </td><td>안녕! 유에프오                                            </td><td>14                                                        </td></tr>\n",
       "\t<tr><td>20040130                                                  </td><td>그녀를 모르면 간첩                                        </td><td>16                                                        </td></tr>\n",
       "\t<tr><td>20040130                                                  </td><td>빙우                                                      </td><td>1                                                         </td></tr>\n",
       "\t<tr><td>20040205                                                  </td><td>태극기 휘날리며                                           </td><td>74                                                        </td></tr>\n",
       "\t<tr><td>20040205                                                  </td><td>실미도                                                    </td><td>32                                                        </td></tr>\n",
       "\t<tr><td>20040205                                                  </td><td>말죽거리 잔혹사                                           </td><td>23                                                        </td></tr>\n",
       "\t<tr><td>20040205                                                  </td><td>내사랑 싸가지                                             </td><td>8                                                         </td></tr>\n",
       "\t<tr><td>20040205                                                  </td><td>안녕! 유에프오                                            </td><td>6                                                         </td></tr>\n",
       "\t<tr><td>20040205                                                  </td><td>그녀를 모르면 간첩                                        </td><td>3                                                         </td></tr>\n",
       "\t<tr><td>20040213                                                  </td><td>태극기 휘날리며                                           </td><td>107                                                       </td></tr>\n",
       "\t<tr><td>20040213                                                  </td><td>실미도                                                    </td><td>30                                                        </td></tr>\n",
       "\t<tr><td>20040213                                                  </td><td>말죽거리 잔혹사                                           </td><td>10                                                        </td></tr>\n",
       "\t<tr><td>20040213                                                  </td><td>마법경찰 갈갈이와 옥동자                                  </td><td>12                                                        </td></tr>\n",
       "\t<tr><td>20040213                                                  </td><td>동해물과 백두산이                                         </td><td>1                                                         </td></tr>\n",
       "\t<tr><td>20040213                                                  </td><td>내사랑 싸가지                                             </td><td>1                                                         </td></tr>\n",
       "\t<tr><td>20040220                                                  </td><td>태극기 휘날리며                                           </td><td>74                                                        </td></tr>\n",
       "\t<tr><td>20040220                                                  </td><td>목포는 항구다                                             </td><td>22                                                        </td></tr>\n",
       "\t<tr><td>20040220                                                  </td><td>그녀를 믿지 마세요                                        </td><td>22                                                        </td></tr>\n",
       "\t<tr><td>20040220                                                  </td><td>실미도                                                    </td><td>22                                                        </td></tr>\n",
       "\t<tr><td>20040220                                                  </td><td>말죽거리 잔혹사                                           </td><td>2                                                         </td></tr>\n",
       "\t<tr><td>20040312                                                  </td><td>태극기 휘날리며                                           </td><td>45                                                        </td></tr>\n",
       "\t<tr><td>20040312                                                  </td><td>어디선가 누군가에 무슨일이 생기면 틀림없이 나타난다 홍반장</td><td>27                                                        </td></tr>\n",
       "\t<tr><td>...</td><td>...</td><td>...</td></tr>\n",
       "\t<tr><td>20200115                                                    </td><td>해치지않아                                                  </td><td>1104                                                        </td></tr>\n",
       "\t<tr><td>20200115                                                    </td><td>백두산                                                      </td><td>598                                                         </td></tr>\n",
       "\t<tr><td>20200115                                                    </td><td>천문: 하늘에 묻는다                                         </td><td>432                                                         </td></tr>\n",
       "\t<tr><td>20200115                                                    </td><td>시동                                                        </td><td>347                                                         </td></tr>\n",
       "\t<tr><td>20200115                                                    </td><td>히트맨                                                      </td><td>14                                                          </td></tr>\n",
       "\t<tr><td>20200115                                                    </td><td>남산의 부장들                                               </td><td>8                                                           </td></tr>\n",
       "\t<tr><td>20200115                                                    </td><td>신비아파트 극장판 하늘도깨비 대 요르문간드                  </td><td>91                                                          </td></tr>\n",
       "\t<tr><td>20200115                                                    </td><td>기생충                                                      </td><td>51                                                          </td></tr>\n",
       "\t<tr><td>20200115                                                    </td><td>맛있는여대생들-무삭제                                       </td><td>1                                                           </td></tr>\n",
       "\t<tr><td>20200115                                                    </td><td>설악, 산양의 땅 사람들                                      </td><td>1                                                           </td></tr>\n",
       "\t<tr><td>20200122                                                    </td><td>남산의 부장들                                               </td><td>1363                                                        </td></tr>\n",
       "\t<tr><td>20200122                                                    </td><td>히트맨                                                      </td><td>944                                                         </td></tr>\n",
       "\t<tr><td>20200122                                                    </td><td>미스터 주: 사라진 VIP                                       </td><td>647                                                         </td></tr>\n",
       "\t<tr><td>20200122                                                    </td><td>해치지않아                                                  </td><td>602                                                         </td></tr>\n",
       "\t<tr><td>20200122                                                    </td><td>백두산                                                      </td><td>157                                                         </td></tr>\n",
       "\t<tr><td>20200122                                                    </td><td>천문: 하늘에 묻는다                                         </td><td>49                                                          </td></tr>\n",
       "\t<tr><td>20200122                                                    </td><td>핑크퐁 시네마 콘서트 : 우주대탐험                           </td><td>3                                                           </td></tr>\n",
       "\t<tr><td>20200122                                                    </td><td>신비아파트 극장판 하늘도깨비 대 요르문간드                  </td><td>10                                                          </td></tr>\n",
       "\t<tr><td>20200122                                                    </td><td>시동                                                        </td><td>9                                                           </td></tr>\n",
       "\t<tr><td>20200122                                                    </td><td>기생충                                                      </td><td>1                                                           </td></tr>\n",
       "\t<tr><td>20211124                                                    </td><td>유체이탈자                                                  </td><td>1105                                                        </td></tr>\n",
       "\t<tr><td>20211124                                                    </td><td>연애 빠진 로맨스                                            </td><td>931                                                         </td></tr>\n",
       "\t<tr><td>20211124                                                    </td><td>장르만 로맨스                                               </td><td>686                                                         </td></tr>\n",
       "\t<tr><td>20211124                                                    </td><td>강릉                                                        </td><td>159                                                         </td></tr>\n",
       "\t<tr><td>20211124                                                    </td><td>보이스                                                      </td><td>7                                                           </td></tr>\n",
       "\t<tr><td>20211124                                                    </td><td>로또쉐어                                                    </td><td>18                                                          </td></tr>\n",
       "\t<tr><td>20211124                                                    </td><td>기적                                                        </td><td>3                                                           </td></tr>\n",
       "\t<tr><td>20211124                                                    </td><td>무녀도                                                      </td><td>34                                                          </td></tr>\n",
       "\t<tr><td>20211124                                                    </td><td>2021 청주영상위원회 '영화와 함께하는 11월' 관객과의 대화(GV)</td><td>1                                                           </td></tr>\n",
       "\t<tr><td>20211124                                                    </td><td>쌀                                                          </td><td>1                                                           </td></tr>\n",
       "</tbody>\n",
       "</table>\n"
      ],
      "text/latex": [
       "\\begin{tabular}{r|lll}\n",
       " 개봉일 & 영화명 & 스크린수\\\\\n",
       "\\hline\n",
       "\t 20040116                                                   & 말죽거리 잔혹사                                            & 37                                                        \\\\\n",
       "\t 20040116                                                   & 실미도                                                     & 28                                                        \\\\\n",
       "\t 20040116                                                   & 내사랑 싸가지                                              & 20                                                        \\\\\n",
       "\t 20040116                                                   & 빙우                                                       & 16                                                        \\\\\n",
       "\t 20040116                                                   & 동해물과 백두산이                                          & 1                                                         \\\\\n",
       "\t 20040130                                                   & 실미도                                                     & 28                                                        \\\\\n",
       "\t 20040130                                                   & 말죽거리 잔혹사                                            & 24                                                        \\\\\n",
       "\t 20040130                                                   & 내사랑 싸가지                                              & 16                                                        \\\\\n",
       "\t 20040130                                                   & 안녕! 유에프오                                             & 14                                                        \\\\\n",
       "\t 20040130                                                   & 그녀를 모르면 간첩                                         & 16                                                        \\\\\n",
       "\t 20040130                                                   & 빙우                                                       & 1                                                         \\\\\n",
       "\t 20040205                                                   & 태극기 휘날리며                                            & 74                                                        \\\\\n",
       "\t 20040205                                                   & 실미도                                                     & 32                                                        \\\\\n",
       "\t 20040205                                                   & 말죽거리 잔혹사                                            & 23                                                        \\\\\n",
       "\t 20040205                                                   & 내사랑 싸가지                                              & 8                                                         \\\\\n",
       "\t 20040205                                                   & 안녕! 유에프오                                             & 6                                                         \\\\\n",
       "\t 20040205                                                   & 그녀를 모르면 간첩                                         & 3                                                         \\\\\n",
       "\t 20040213                                                   & 태극기 휘날리며                                            & 107                                                       \\\\\n",
       "\t 20040213                                                   & 실미도                                                     & 30                                                        \\\\\n",
       "\t 20040213                                                   & 말죽거리 잔혹사                                            & 10                                                        \\\\\n",
       "\t 20040213                                                   & 마법경찰 갈갈이와 옥동자                                   & 12                                                        \\\\\n",
       "\t 20040213                                                   & 동해물과 백두산이                                          & 1                                                         \\\\\n",
       "\t 20040213                                                   & 내사랑 싸가지                                              & 1                                                         \\\\\n",
       "\t 20040220                                                   & 태극기 휘날리며                                            & 74                                                        \\\\\n",
       "\t 20040220                                                   & 목포는 항구다                                              & 22                                                        \\\\\n",
       "\t 20040220                                                   & 그녀를 믿지 마세요                                         & 22                                                        \\\\\n",
       "\t 20040220                                                   & 실미도                                                     & 22                                                        \\\\\n",
       "\t 20040220                                                   & 말죽거리 잔혹사                                            & 2                                                         \\\\\n",
       "\t 20040312                                                   & 태극기 휘날리며                                            & 45                                                        \\\\\n",
       "\t 20040312                                                   & 어디선가 누군가에 무슨일이 생기면 틀림없이 나타난다 홍반장 & 27                                                        \\\\\n",
       "\t ... & ... & ...\\\\\n",
       "\t 20200115                                                     & 해치지않아                                                   & 1104                                                        \\\\\n",
       "\t 20200115                                                     & 백두산                                                       & 598                                                         \\\\\n",
       "\t 20200115                                                     & 천문: 하늘에 묻는다                                          & 432                                                         \\\\\n",
       "\t 20200115                                                     & 시동                                                         & 347                                                         \\\\\n",
       "\t 20200115                                                     & 히트맨                                                       & 14                                                          \\\\\n",
       "\t 20200115                                                     & 남산의 부장들                                                & 8                                                           \\\\\n",
       "\t 20200115                                                     & 신비아파트 극장판 하늘도깨비 대 요르문간드                   & 91                                                          \\\\\n",
       "\t 20200115                                                     & 기생충                                                       & 51                                                          \\\\\n",
       "\t 20200115                                                     & 맛있는여대생들-무삭제                                        & 1                                                           \\\\\n",
       "\t 20200115                                                     & 설악, 산양의 땅 사람들                                       & 1                                                           \\\\\n",
       "\t 20200122                                                     & 남산의 부장들                                                & 1363                                                        \\\\\n",
       "\t 20200122                                                     & 히트맨                                                       & 944                                                         \\\\\n",
       "\t 20200122                                                     & 미스터 주: 사라진 VIP                                        & 647                                                         \\\\\n",
       "\t 20200122                                                     & 해치지않아                                                   & 602                                                         \\\\\n",
       "\t 20200122                                                     & 백두산                                                       & 157                                                         \\\\\n",
       "\t 20200122                                                     & 천문: 하늘에 묻는다                                          & 49                                                          \\\\\n",
       "\t 20200122                                                     & 핑크퐁 시네마 콘서트 : 우주대탐험                            & 3                                                           \\\\\n",
       "\t 20200122                                                     & 신비아파트 극장판 하늘도깨비 대 요르문간드                   & 10                                                          \\\\\n",
       "\t 20200122                                                     & 시동                                                         & 9                                                           \\\\\n",
       "\t 20200122                                                     & 기생충                                                       & 1                                                           \\\\\n",
       "\t 20211124                                                     & 유체이탈자                                                   & 1105                                                        \\\\\n",
       "\t 20211124                                                     & 연애 빠진 로맨스                                             & 931                                                         \\\\\n",
       "\t 20211124                                                     & 장르만 로맨스                                                & 686                                                         \\\\\n",
       "\t 20211124                                                     & 강릉                                                         & 159                                                         \\\\\n",
       "\t 20211124                                                     & 보이스                                                       & 7                                                           \\\\\n",
       "\t 20211124                                                     & 로또쉐어                                                     & 18                                                          \\\\\n",
       "\t 20211124                                                     & 기적                                                         & 3                                                           \\\\\n",
       "\t 20211124                                                     & 무녀도                                                       & 34                                                          \\\\\n",
       "\t 20211124                                                     & 2021 청주영상위원회 '영화와 함께하는 11월' 관객과의 대화(GV) & 1                                                           \\\\\n",
       "\t 20211124                                                     & 쌀                                                           & 1                                                           \\\\\n",
       "\\end{tabular}\n"
      ],
      "text/markdown": [
       "\n",
       "| 개봉일 | 영화명 | 스크린수 |\n",
       "|---|---|---|\n",
       "| 20040116                                                   | 말죽거리 잔혹사                                            | 37                                                         |\n",
       "| 20040116                                                   | 실미도                                                     | 28                                                         |\n",
       "| 20040116                                                   | 내사랑 싸가지                                              | 20                                                         |\n",
       "| 20040116                                                   | 빙우                                                       | 16                                                         |\n",
       "| 20040116                                                   | 동해물과 백두산이                                          | 1                                                          |\n",
       "| 20040130                                                   | 실미도                                                     | 28                                                         |\n",
       "| 20040130                                                   | 말죽거리 잔혹사                                            | 24                                                         |\n",
       "| 20040130                                                   | 내사랑 싸가지                                              | 16                                                         |\n",
       "| 20040130                                                   | 안녕! 유에프오                                             | 14                                                         |\n",
       "| 20040130                                                   | 그녀를 모르면 간첩                                         | 16                                                         |\n",
       "| 20040130                                                   | 빙우                                                       | 1                                                          |\n",
       "| 20040205                                                   | 태극기 휘날리며                                            | 74                                                         |\n",
       "| 20040205                                                   | 실미도                                                     | 32                                                         |\n",
       "| 20040205                                                   | 말죽거리 잔혹사                                            | 23                                                         |\n",
       "| 20040205                                                   | 내사랑 싸가지                                              | 8                                                          |\n",
       "| 20040205                                                   | 안녕! 유에프오                                             | 6                                                          |\n",
       "| 20040205                                                   | 그녀를 모르면 간첩                                         | 3                                                          |\n",
       "| 20040213                                                   | 태극기 휘날리며                                            | 107                                                        |\n",
       "| 20040213                                                   | 실미도                                                     | 30                                                         |\n",
       "| 20040213                                                   | 말죽거리 잔혹사                                            | 10                                                         |\n",
       "| 20040213                                                   | 마법경찰 갈갈이와 옥동자                                   | 12                                                         |\n",
       "| 20040213                                                   | 동해물과 백두산이                                          | 1                                                          |\n",
       "| 20040213                                                   | 내사랑 싸가지                                              | 1                                                          |\n",
       "| 20040220                                                   | 태극기 휘날리며                                            | 74                                                         |\n",
       "| 20040220                                                   | 목포는 항구다                                              | 22                                                         |\n",
       "| 20040220                                                   | 그녀를 믿지 마세요                                         | 22                                                         |\n",
       "| 20040220                                                   | 실미도                                                     | 22                                                         |\n",
       "| 20040220                                                   | 말죽거리 잔혹사                                            | 2                                                          |\n",
       "| 20040312                                                   | 태극기 휘날리며                                            | 45                                                         |\n",
       "| 20040312                                                   | 어디선가 누군가에 무슨일이 생기면 틀림없이 나타난다 홍반장 | 27                                                         |\n",
       "| ... | ... | ... |\n",
       "| 20200115                                                     | 해치지않아                                                   | 1104                                                         |\n",
       "| 20200115                                                     | 백두산                                                       | 598                                                          |\n",
       "| 20200115                                                     | 천문: 하늘에 묻는다                                          | 432                                                          |\n",
       "| 20200115                                                     | 시동                                                         | 347                                                          |\n",
       "| 20200115                                                     | 히트맨                                                       | 14                                                           |\n",
       "| 20200115                                                     | 남산의 부장들                                                | 8                                                            |\n",
       "| 20200115                                                     | 신비아파트 극장판 하늘도깨비 대 요르문간드                   | 91                                                           |\n",
       "| 20200115                                                     | 기생충                                                       | 51                                                           |\n",
       "| 20200115                                                     | 맛있는여대생들-무삭제                                        | 1                                                            |\n",
       "| 20200115                                                     | 설악, 산양의 땅 사람들                                       | 1                                                            |\n",
       "| 20200122                                                     | 남산의 부장들                                                | 1363                                                         |\n",
       "| 20200122                                                     | 히트맨                                                       | 944                                                          |\n",
       "| 20200122                                                     | 미스터 주: 사라진 VIP                                        | 647                                                          |\n",
       "| 20200122                                                     | 해치지않아                                                   | 602                                                          |\n",
       "| 20200122                                                     | 백두산                                                       | 157                                                          |\n",
       "| 20200122                                                     | 천문: 하늘에 묻는다                                          | 49                                                           |\n",
       "| 20200122                                                     | 핑크퐁 시네마 콘서트 : 우주대탐험                            | 3                                                            |\n",
       "| 20200122                                                     | 신비아파트 극장판 하늘도깨비 대 요르문간드                   | 10                                                           |\n",
       "| 20200122                                                     | 시동                                                         | 9                                                            |\n",
       "| 20200122                                                     | 기생충                                                       | 1                                                            |\n",
       "| 20211124                                                     | 유체이탈자                                                   | 1105                                                         |\n",
       "| 20211124                                                     | 연애 빠진 로맨스                                             | 931                                                          |\n",
       "| 20211124                                                     | 장르만 로맨스                                                | 686                                                          |\n",
       "| 20211124                                                     | 강릉                                                         | 159                                                          |\n",
       "| 20211124                                                     | 보이스                                                       | 7                                                            |\n",
       "| 20211124                                                     | 로또쉐어                                                     | 18                                                           |\n",
       "| 20211124                                                     | 기적                                                         | 3                                                            |\n",
       "| 20211124                                                     | 무녀도                                                       | 34                                                           |\n",
       "| 20211124                                                     | 2021 청주영상위원회 '영화와 함께하는 11월' 관객과의 대화(GV) | 1                                                            |\n",
       "| 20211124                                                     | 쌀                                                           | 1                                                            |\n",
       "\n"
      ],
      "text/plain": [
       "      개봉일   영화명                                                      \n",
       "1     20040116 말죽거리 잔혹사                                             \n",
       "2     20040116 실미도                                                      \n",
       "3     20040116 내사랑 싸가지                                               \n",
       "4     20040116 빙우                                                        \n",
       "5     20040116 동해물과 백두산이                                           \n",
       "6     20040130 실미도                                                      \n",
       "7     20040130 말죽거리 잔혹사                                             \n",
       "8     20040130 내사랑 싸가지                                               \n",
       "9     20040130 안녕! 유에프오                                              \n",
       "10    20040130 그녀를 모르면 간첩                                          \n",
       "11    20040130 빙우                                                        \n",
       "12    20040205 태극기 휘날리며                                             \n",
       "13    20040205 실미도                                                      \n",
       "14    20040205 말죽거리 잔혹사                                             \n",
       "15    20040205 내사랑 싸가지                                               \n",
       "16    20040205 안녕! 유에프오                                              \n",
       "17    20040205 그녀를 모르면 간첩                                          \n",
       "18    20040213 태극기 휘날리며                                             \n",
       "19    20040213 실미도                                                      \n",
       "20    20040213 말죽거리 잔혹사                                             \n",
       "21    20040213 마법경찰 갈갈이와 옥동자                                    \n",
       "22    20040213 동해물과 백두산이                                           \n",
       "23    20040213 내사랑 싸가지                                               \n",
       "24    20040220 태극기 휘날리며                                             \n",
       "25    20040220 목포는 항구다                                               \n",
       "26    20040220 그녀를 믿지 마세요                                          \n",
       "27    20040220 실미도                                                      \n",
       "28    20040220 말죽거리 잔혹사                                             \n",
       "29    20040312 태극기 휘날리며                                             \n",
       "30    20040312 어디선가 누군가에 무슨일이 생기면 틀림없이 나타난다 홍반장  \n",
       "...   ...      ...                                                         \n",
       "13116 20200115 해치지않아                                                  \n",
       "13117 20200115 백두산                                                      \n",
       "13118 20200115 천문: 하늘에 묻는다                                         \n",
       "13119 20200115 시동                                                        \n",
       "13120 20200115 히트맨                                                      \n",
       "13121 20200115 남산의 부장들                                               \n",
       "13122 20200115 신비아파트 극장판 하늘도깨비 대 요르문간드                  \n",
       "13123 20200115 기생충                                                      \n",
       "13124 20200115 맛있는여대생들-무삭제                                       \n",
       "13125 20200115 설악, 산양의 땅 사람들                                      \n",
       "13126 20200122 남산의 부장들                                               \n",
       "13127 20200122 히트맨                                                      \n",
       "13128 20200122 미스터 주: 사라진 VIP                                       \n",
       "13129 20200122 해치지않아                                                  \n",
       "13130 20200122 백두산                                                      \n",
       "13131 20200122 천문: 하늘에 묻는다                                         \n",
       "13132 20200122 핑크퐁 시네마 콘서트 : 우주대탐험                           \n",
       "13133 20200122 신비아파트 극장판 하늘도깨비 대 요르문간드                  \n",
       "13134 20200122 시동                                                        \n",
       "13135 20200122 기생충                                                      \n",
       "13136 20211124 유체이탈자                                                  \n",
       "13137 20211124 연애 빠진 로맨스                                            \n",
       "13138 20211124 장르만 로맨스                                               \n",
       "13139 20211124 강릉                                                        \n",
       "13140 20211124 보이스                                                      \n",
       "13141 20211124 로또쉐어                                                    \n",
       "13142 20211124 기적                                                        \n",
       "13143 20211124 무녀도                                                      \n",
       "13144 20211124 2021 청주영상위원회 '영화와 함께하는 11월' 관객과의 대화(GV)\n",
       "13145 20211124 쌀                                                          \n",
       "      스크린수\n",
       "1     37      \n",
       "2     28      \n",
       "3     20      \n",
       "4     16      \n",
       "5     1       \n",
       "6     28      \n",
       "7     24      \n",
       "8     16      \n",
       "9     14      \n",
       "10    16      \n",
       "11    1       \n",
       "12    74      \n",
       "13    32      \n",
       "14    23      \n",
       "15    8       \n",
       "16    6       \n",
       "17    3       \n",
       "18    107     \n",
       "19    30      \n",
       "20    10      \n",
       "21    12      \n",
       "22    1       \n",
       "23    1       \n",
       "24    74      \n",
       "25    22      \n",
       "26    22      \n",
       "27    22      \n",
       "28    2       \n",
       "29    45      \n",
       "30    27      \n",
       "...   ...     \n",
       "13116 1104    \n",
       "13117 598     \n",
       "13118 432     \n",
       "13119 347     \n",
       "13120 14      \n",
       "13121 8       \n",
       "13122 91      \n",
       "13123 51      \n",
       "13124 1       \n",
       "13125 1       \n",
       "13126 1363    \n",
       "13127 944     \n",
       "13128 647     \n",
       "13129 602     \n",
       "13130 157     \n",
       "13131 49      \n",
       "13132 3       \n",
       "13133 10      \n",
       "13134 9       \n",
       "13135 1       \n",
       "13136 1105    \n",
       "13137 931     \n",
       "13138 686     \n",
       "13139 159     \n",
       "13140 7       \n",
       "13141 18      \n",
       "13142 3       \n",
       "13143 34      \n",
       "13144 1       \n",
       "13145 1       "
      ]
     },
     "metadata": {},
     "output_type": "display_data"
    }
   ],
   "source": [
    "result"
   ]
  },
  {
   "cell_type": "code",
   "execution_count": 76,
   "id": "ea367cb7",
   "metadata": {},
   "outputs": [
    {
     "data": {
      "text/html": [
       "<table>\n",
       "<thead><tr><th></th><th scope=col>개봉일</th><th scope=col>영화명</th><th scope=col>스크린수</th></tr></thead>\n",
       "<tbody>\n",
       "\t<tr><th scope=row>4852</th><td>20140730</td><td>명량    </td><td>1159    </td></tr>\n",
       "</tbody>\n",
       "</table>\n"
      ],
      "text/latex": [
       "\\begin{tabular}{r|lll}\n",
       "  & 개봉일 & 영화명 & 스크린수\\\\\n",
       "\\hline\n",
       "\t4852 & 20140730 & 명량     & 1159    \\\\\n",
       "\\end{tabular}\n"
      ],
      "text/markdown": [
       "\n",
       "| <!--/--> | 개봉일 | 영화명 | 스크린수 |\n",
       "|---|---|---|---|\n",
       "| 4852 | 20140730 | 명량     | 1159     |\n",
       "\n"
      ],
      "text/plain": [
       "     개봉일   영화명 스크린수\n",
       "4852 20140730 명량   1159    "
      ]
     },
     "metadata": {},
     "output_type": "display_data"
    }
   ],
   "source": [
    "subset(result, 개봉일 == test$개봉일[1] & 영화명 == test$영화명[1])"
   ]
  },
  {
   "cell_type": "code",
   "execution_count": 110,
   "id": "4db9cbf5",
   "metadata": {},
   "outputs": [],
   "source": [
    "test$영화명 <- str_replace_all(test$영화명,\" \",\"\")\n",
    "result$영화명 <- str_replace_all(result$영화명,\" \",\"\")"
   ]
  },
  {
   "cell_type": "code",
   "execution_count": 154,
   "id": "ea307dd6",
   "metadata": {},
   "outputs": [],
   "source": [
    "real_result <- c()\n",
    "for (i in 1:nrow(test)) {\n",
    "    real_result <- rbind(real_result, subset(result, 개봉일 == test$개봉일[i] & 영화명 == test$영화명[i]))\n",
    "}"
   ]
  },
  {
   "cell_type": "code",
   "execution_count": 155,
   "id": "fa9dab0e",
   "metadata": {},
   "outputs": [
    {
     "data": {
      "text/html": [
       "1604"
      ],
      "text/latex": [
       "1604"
      ],
      "text/markdown": [
       "1604"
      ],
      "text/plain": [
       "[1] 1604"
      ]
     },
     "metadata": {},
     "output_type": "display_data"
    }
   ],
   "source": [
    "nrow(real_result)"
   ]
  },
  {
   "cell_type": "code",
   "execution_count": 156,
   "id": "fd367d12",
   "metadata": {},
   "outputs": [],
   "source": [
    "write.csv(real_result,\"./real_result.csv\", row.names = FALSE)"
   ]
  },
  {
   "cell_type": "code",
   "execution_count": 47,
   "id": "a58f93e0",
   "metadata": {},
   "outputs": [
    {
     "name": "stdout",
     "output_type": "stream",
     "text": [
      "[1] 1372\n",
      "[1] 1378\n",
      "[1] 1463\n",
      "[1] 1528\n",
      "[1] 1646\n",
      "[1] 1848\n",
      "[1] 2015\n",
      "[1] 2145\n",
      "[1] 2162\n",
      "[1] 2182\n",
      "[1] 2246\n",
      "[1] 2279\n",
      "[1] 2318\n",
      "[1] 2397\n",
      "[1] 2410\n",
      "[1] 2422\n",
      "[1] 2496\n",
      "[1] 2511\n",
      "[1] 2526\n",
      "[1] 2568\n",
      "[1] 2597\n"
     ]
    }
   ],
   "source": [
    "for (i in 1:nrow(test)) {\n",
    "    if(nrow(subset(result, 개봉일 != test$개봉일[i] & 영화명 == test$영화명[i])) > 40) {\n",
    "        print(i)\n",
    "    }\n",
    "}\n"
   ]
  },
  {
   "cell_type": "code",
   "execution_count": 57,
   "id": "437f8c9a",
   "metadata": {},
   "outputs": [
    {
     "data": {
      "text/html": [
       "<table>\n",
       "<thead><tr><th></th><th scope=col>영화명</th><th scope=col>개봉일</th></tr></thead>\n",
       "<tbody>\n",
       "\t<tr><th scope=row>2500</th><td>아들의 여자</td><td>20190916   </td></tr>\n",
       "</tbody>\n",
       "</table>\n"
      ],
      "text/latex": [
       "\\begin{tabular}{r|ll}\n",
       "  & 영화명 & 개봉일\\\\\n",
       "\\hline\n",
       "\t2500 & 아들의 여자 & 20190916   \\\\\n",
       "\\end{tabular}\n"
      ],
      "text/markdown": [
       "\n",
       "| <!--/--> | 영화명 | 개봉일 |\n",
       "|---|---|---|\n",
       "| 2500 | 아들의 여자 | 20190916    |\n",
       "\n"
      ],
      "text/plain": [
       "     영화명      개봉일  \n",
       "2500 아들의 여자 20190916"
      ]
     },
     "metadata": {},
     "output_type": "display_data"
    }
   ],
   "source": [
    "test[2500,]"
   ]
  },
  {
   "cell_type": "code",
   "execution_count": 125,
   "id": "2e7802e3",
   "metadata": {},
   "outputs": [
    {
     "data": {
      "text/html": [
       "<table>\n",
       "<thead><tr><th scope=col>영화명</th><th scope=col>개봉일</th></tr></thead>\n",
       "<tbody>\n",
       "</tbody>\n",
       "</table>\n"
      ],
      "text/latex": [
       "\\begin{tabular}{r|ll}\n",
       " 영화명 & 개봉일\\\\\n",
       "\\hline\n",
       "\\end{tabular}\n"
      ],
      "text/markdown": [
       "\n",
       "| 영화명 | 개봉일 |\n",
       "|---|---|\n",
       "\n"
      ],
      "text/plain": [
       "     영화명 개봉일"
      ]
     },
     "metadata": {},
     "output_type": "display_data"
    }
   ],
   "source": [
    "subset(test,영화명 == \"좋은 놈, 나쁜 놈, 이상한 놈\" )"
   ]
  },
  {
   "cell_type": "code",
   "execution_count": 138,
   "id": "ee978c70",
   "metadata": {},
   "outputs": [
    {
     "data": {
      "text/html": [
       "<table>\n",
       "<thead><tr><th></th><th scope=col>영화명</th><th scope=col>개봉일</th></tr></thead>\n",
       "<tbody>\n",
       "\t<tr><th scope=row>925</th><td>비상    </td><td>20091203</td></tr>\n",
       "</tbody>\n",
       "</table>\n"
      ],
      "text/latex": [
       "\\begin{tabular}{r|ll}\n",
       "  & 영화명 & 개봉일\\\\\n",
       "\\hline\n",
       "\t925 & 비상     & 20091203\\\\\n",
       "\\end{tabular}\n"
      ],
      "text/markdown": [
       "\n",
       "| <!--/--> | 영화명 | 개봉일 |\n",
       "|---|---|---|\n",
       "| 925 | 비상     | 20091203 |\n",
       "\n"
      ],
      "text/plain": [
       "    영화명 개봉일  \n",
       "925 비상   20091203"
      ]
     },
     "metadata": {},
     "output_type": "display_data"
    }
   ],
   "source": [
    "subset(test, 영화명 ==\"비상\")"
   ]
  },
  {
   "cell_type": "code",
   "execution_count": 158,
   "id": "10d3006f",
   "metadata": {},
   "outputs": [
    {
     "data": {
      "text/html": [
       "<table>\n",
       "<thead><tr><th></th><th scope=col>영화명</th><th scope=col>개봉일</th></tr></thead>\n",
       "<tbody>\n",
       "\t<tr><th scope=row>1003</th><td>날으는돼지-해적마테오</td><td>20040724             </td></tr>\n",
       "</tbody>\n",
       "</table>\n"
      ],
      "text/latex": [
       "\\begin{tabular}{r|ll}\n",
       "  & 영화명 & 개봉일\\\\\n",
       "\\hline\n",
       "\t1003 & 날으는돼지-해적마테오 & 20040724             \\\\\n",
       "\\end{tabular}\n"
      ],
      "text/markdown": [
       "\n",
       "| <!--/--> | 영화명 | 개봉일 |\n",
       "|---|---|---|\n",
       "| 1003 | 날으는돼지-해적마테오 | 20040724              |\n",
       "\n"
      ],
      "text/plain": [
       "     영화명                개봉일  \n",
       "1003 날으는돼지-해적마테오 20040724"
      ]
     },
     "metadata": {},
     "output_type": "display_data"
    }
   ],
   "source": [
    "subset(test, 영화명 == \"날으는돼지-해적마테오\")"
   ]
  },
  {
   "cell_type": "code",
   "execution_count": 159,
   "id": "a2a9ca83",
   "metadata": {},
   "outputs": [
    {
     "data": {
      "text/html": [
       "<table>\n",
       "<thead><tr><th></th><th scope=col>개봉일</th><th scope=col>영화명</th><th scope=col>스크린수</th></tr></thead>\n",
       "<tbody>\n",
       "\t<tr><th scope=row>823</th><td>20060113    </td><td>다섯개의시선</td><td>12          </td></tr>\n",
       "</tbody>\n",
       "</table>\n"
      ],
      "text/latex": [
       "\\begin{tabular}{r|lll}\n",
       "  & 개봉일 & 영화명 & 스크린수\\\\\n",
       "\\hline\n",
       "\t823 & 20060113     & 다섯개의시선 & 12          \\\\\n",
       "\\end{tabular}\n"
      ],
      "text/markdown": [
       "\n",
       "| <!--/--> | 개봉일 | 영화명 | 스크린수 |\n",
       "|---|---|---|---|\n",
       "| 823 | 20060113     | 다섯개의시선 | 12           |\n",
       "\n"
      ],
      "text/plain": [
       "    개봉일   영화명       스크린수\n",
       "823 20060113 다섯개의시선 12      "
      ]
     },
     "metadata": {},
     "output_type": "display_data"
    }
   ],
   "source": [
    "real_result[1002,]"
   ]
  },
  {
   "cell_type": "code",
   "execution_count": 141,
   "id": "d92be8b0",
   "metadata": {},
   "outputs": [
    {
     "data": {
      "text/html": [
       "<table>\n",
       "<thead><tr><th></th><th scope=col>개봉일</th><th scope=col>영화명</th><th scope=col>스크린수</th></tr></thead>\n",
       "<tbody>\n",
       "\t<tr><th scope=row>2526</th><td>20091203        </td><td>시크릿          </td><td>391             </td></tr>\n",
       "\t<tr><th scope=row>2527</th><td>20091203        </td><td>홍길동의후예    </td><td>293             </td></tr>\n",
       "\t<tr><th scope=row>2528</th><td>20091203        </td><td>백야행          </td><td>245             </td></tr>\n",
       "\t<tr><th scope=row>2529</th><td>20091203        </td><td>청담보살        </td><td>185             </td></tr>\n",
       "\t<tr><th scope=row>2530</th><td>20091203        </td><td>바람            </td><td>74              </td></tr>\n",
       "\t<tr><th scope=row>2531</th><td>20091203        </td><td>굿모닝프레지던트</td><td>6               </td></tr>\n",
       "\t<tr><th scope=row>2532</th><td>20091203        </td><td>결혼식후에      </td><td>8               </td></tr>\n",
       "\t<tr><th scope=row>2533</th><td>20091203        </td><td>낙원-파라다이스 </td><td>3               </td></tr>\n",
       "\t<tr><th scope=row>2534</th><td>20091203        </td><td>유현목특별전    </td><td>1               </td></tr>\n",
       "\t<tr><th scope=row>2535</th><td>20091203        </td><td>키친            </td><td>1               </td></tr>\n",
       "</tbody>\n",
       "</table>\n"
      ],
      "text/latex": [
       "\\begin{tabular}{r|lll}\n",
       "  & 개봉일 & 영화명 & 스크린수\\\\\n",
       "\\hline\n",
       "\t2526 & 20091203         & 시크릿           & 391             \\\\\n",
       "\t2527 & 20091203         & 홍길동의후예     & 293             \\\\\n",
       "\t2528 & 20091203         & 백야행           & 245             \\\\\n",
       "\t2529 & 20091203         & 청담보살         & 185             \\\\\n",
       "\t2530 & 20091203         & 바람             & 74              \\\\\n",
       "\t2531 & 20091203         & 굿모닝프레지던트 & 6               \\\\\n",
       "\t2532 & 20091203         & 결혼식후에       & 8               \\\\\n",
       "\t2533 & 20091203         & 낙원-파라다이스  & 3               \\\\\n",
       "\t2534 & 20091203         & 유현목특별전     & 1               \\\\\n",
       "\t2535 & 20091203         & 키친             & 1               \\\\\n",
       "\\end{tabular}\n"
      ],
      "text/markdown": [
       "\n",
       "| <!--/--> | 개봉일 | 영화명 | 스크린수 |\n",
       "|---|---|---|---|\n",
       "| 2526 | 20091203         | 시크릿           | 391              |\n",
       "| 2527 | 20091203         | 홍길동의후예     | 293              |\n",
       "| 2528 | 20091203         | 백야행           | 245              |\n",
       "| 2529 | 20091203         | 청담보살         | 185              |\n",
       "| 2530 | 20091203         | 바람             | 74               |\n",
       "| 2531 | 20091203         | 굿모닝프레지던트 | 6                |\n",
       "| 2532 | 20091203         | 결혼식후에       | 8                |\n",
       "| 2533 | 20091203         | 낙원-파라다이스  | 3                |\n",
       "| 2534 | 20091203         | 유현목특별전     | 1                |\n",
       "| 2535 | 20091203         | 키친             | 1                |\n",
       "\n"
      ],
      "text/plain": [
       "     개봉일   영화명           스크린수\n",
       "2526 20091203 시크릿           391     \n",
       "2527 20091203 홍길동의후예     293     \n",
       "2528 20091203 백야행           245     \n",
       "2529 20091203 청담보살         185     \n",
       "2530 20091203 바람             74      \n",
       "2531 20091203 굿모닝프레지던트 6       \n",
       "2532 20091203 결혼식후에       8       \n",
       "2533 20091203 낙원-파라다이스  3       \n",
       "2534 20091203 유현목특별전     1       \n",
       "2535 20091203 키친             1       "
      ]
     },
     "metadata": {},
     "output_type": "display_data"
    }
   ],
   "source": [
    "subset(result, 개봉일 == \"20091203\")"
   ]
  },
  {
   "cell_type": "code",
   "execution_count": 121,
   "id": "ad678dba",
   "metadata": {
    "scrolled": true
   },
   "outputs": [
    {
     "data": {
      "text/html": [
       "<table>\n",
       "<thead><tr><th></th><th scope=col>개봉일</th><th scope=col>영화명</th><th scope=col>스크린수</th></tr></thead>\n",
       "<tbody>\n",
       "\t<tr><th scope=row>1815</th><td>20080131</td><td>더게임  </td><td>266     </td></tr>\n",
       "\t<tr><th scope=row>1826</th><td>20080205</td><td>더게임  </td><td>281     </td></tr>\n",
       "\t<tr><th scope=row>1838</th><td>20080214</td><td>더게임  </td><td>220     </td></tr>\n",
       "\t<tr><th scope=row>1853</th><td>20080228</td><td>더게임  </td><td>10      </td></tr>\n",
       "\t<tr><th scope=row>1861</th><td>20080306</td><td>더게임  </td><td>4       </td></tr>\n",
       "\t<tr><th scope=row>1874</th><td>20080313</td><td>더게임  </td><td>1       </td></tr>\n",
       "</tbody>\n",
       "</table>\n"
      ],
      "text/latex": [
       "\\begin{tabular}{r|lll}\n",
       "  & 개봉일 & 영화명 & 스크린수\\\\\n",
       "\\hline\n",
       "\t1815 & 20080131 & 더게임   & 266     \\\\\n",
       "\t1826 & 20080205 & 더게임   & 281     \\\\\n",
       "\t1838 & 20080214 & 더게임   & 220     \\\\\n",
       "\t1853 & 20080228 & 더게임   & 10      \\\\\n",
       "\t1861 & 20080306 & 더게임   & 4       \\\\\n",
       "\t1874 & 20080313 & 더게임   & 1       \\\\\n",
       "\\end{tabular}\n"
      ],
      "text/markdown": [
       "\n",
       "| <!--/--> | 개봉일 | 영화명 | 스크린수 |\n",
       "|---|---|---|---|\n",
       "| 1815 | 20080131 | 더게임   | 266      |\n",
       "| 1826 | 20080205 | 더게임   | 281      |\n",
       "| 1838 | 20080214 | 더게임   | 220      |\n",
       "| 1853 | 20080228 | 더게임   | 10       |\n",
       "| 1861 | 20080306 | 더게임   | 4        |\n",
       "| 1874 | 20080313 | 더게임   | 1        |\n",
       "\n"
      ],
      "text/plain": [
       "     개봉일   영화명 스크린수\n",
       "1815 20080131 더게임 266     \n",
       "1826 20080205 더게임 281     \n",
       "1838 20080214 더게임 220     \n",
       "1853 20080228 더게임 10      \n",
       "1861 20080306 더게임 4       \n",
       "1874 20080313 더게임 1       "
      ]
     },
     "metadata": {},
     "output_type": "display_data"
    }
   ],
   "source": [
    "subset(result, 영화명 == \"더게임\")"
   ]
  },
  {
   "cell_type": "code",
   "execution_count": 150,
   "id": "f18b9664",
   "metadata": {},
   "outputs": [
    {
     "data": {
      "text/html": [
       "<table>\n",
       "<thead><tr><th></th><th scope=col>영화명</th><th scope=col>개봉일</th></tr></thead>\n",
       "<tbody>\n",
       "\t<tr><th scope=row>980</th><td>슈퍼레이서엔지</td><td>20150910      </td></tr>\n",
       "</tbody>\n",
       "</table>\n"
      ],
      "text/latex": [
       "\\begin{tabular}{r|ll}\n",
       "  & 영화명 & 개봉일\\\\\n",
       "\\hline\n",
       "\t980 & 슈퍼레이서엔지 & 20150910      \\\\\n",
       "\\end{tabular}\n"
      ],
      "text/markdown": [
       "\n",
       "| <!--/--> | 영화명 | 개봉일 |\n",
       "|---|---|---|\n",
       "| 980 | 슈퍼레이서엔지 | 20150910       |\n",
       "\n"
      ],
      "text/plain": [
       "    영화명         개봉일  \n",
       "980 슈퍼레이서엔지 20150910"
      ]
     },
     "metadata": {},
     "output_type": "display_data"
    }
   ],
   "source": [
    "subset(test, 영화명 == \"슈퍼레이서엔지\")"
   ]
  },
  {
   "cell_type": "code",
   "execution_count": 149,
   "id": "963e8f1e",
   "metadata": {},
   "outputs": [
    {
     "data": {
      "text/html": [
       "<table>\n",
       "<thead><tr><th></th><th scope=col>개봉일</th><th scope=col>영화명</th><th scope=col>스크린수</th></tr></thead>\n",
       "<tbody>\n",
       "\t<tr><th scope=row>5748</th><td>20150916      </td><td>슈퍼레이서엔지</td><td>25            </td></tr>\n",
       "\t<tr><th scope=row>5758</th><td>20150917      </td><td>슈퍼레이서엔지</td><td>5             </td></tr>\n",
       "\t<tr><th scope=row>5778</th><td>20150924      </td><td>슈퍼레이서엔지</td><td>2             </td></tr>\n",
       "\t<tr><th scope=row>5787</th><td>20150930      </td><td>슈퍼레이서엔지</td><td>4             </td></tr>\n",
       "</tbody>\n",
       "</table>\n"
      ],
      "text/latex": [
       "\\begin{tabular}{r|lll}\n",
       "  & 개봉일 & 영화명 & 스크린수\\\\\n",
       "\\hline\n",
       "\t5748 & 20150916       & 슈퍼레이서엔지 & 25            \\\\\n",
       "\t5758 & 20150917       & 슈퍼레이서엔지 & 5             \\\\\n",
       "\t5778 & 20150924       & 슈퍼레이서엔지 & 2             \\\\\n",
       "\t5787 & 20150930       & 슈퍼레이서엔지 & 4             \\\\\n",
       "\\end{tabular}\n"
      ],
      "text/markdown": [
       "\n",
       "| <!--/--> | 개봉일 | 영화명 | 스크린수 |\n",
       "|---|---|---|---|\n",
       "| 5748 | 20150916       | 슈퍼레이서엔지 | 25             |\n",
       "| 5758 | 20150917       | 슈퍼레이서엔지 | 5              |\n",
       "| 5778 | 20150924       | 슈퍼레이서엔지 | 2              |\n",
       "| 5787 | 20150930       | 슈퍼레이서엔지 | 4              |\n",
       "\n"
      ],
      "text/plain": [
       "     개봉일   영화명         스크린수\n",
       "5748 20150916 슈퍼레이서엔지 25      \n",
       "5758 20150917 슈퍼레이서엔지 5       \n",
       "5778 20150924 슈퍼레이서엔지 2       \n",
       "5787 20150930 슈퍼레이서엔지 4       "
      ]
     },
     "metadata": {},
     "output_type": "display_data"
    }
   ],
   "source": [
    "subset(result, 영화명 == \"슈퍼레이서엔지\")"
   ]
  },
  {
   "cell_type": "code",
   "execution_count": 153,
   "id": "edea8583",
   "metadata": {},
   "outputs": [],
   "source": [
    "result <- rbind(result, data.frame(개봉일=\"20150910\", 영화명=\"슈퍼레이서엔지\",스크린수=25))"
   ]
  },
  {
   "cell_type": "code",
   "execution_count": 145,
   "id": "b977cc6a",
   "metadata": {},
   "outputs": [],
   "source": [
    "result <- rbind(result, data.frame(개봉일=\"20091127\", 영화명=\"비상\",스크린수=161))"
   ]
  },
  {
   "cell_type": "code",
   "execution_count": 143,
   "id": "31076c6d",
   "metadata": {},
   "outputs": [],
   "source": [
    "test$개봉일[test$영화명 == \"더게임\"] <- \"20080131\"\n",
    "test$개봉일[test$영화명 == \"비상\"] <- \"20091127\""
   ]
  },
  {
   "cell_type": "code",
   "execution_count": 115,
   "id": "eaa24b02",
   "metadata": {
    "scrolled": true
   },
   "outputs": [
    {
     "data": {
      "text/html": [
       "<table>\n",
       "<thead><tr><th></th><th scope=col>개봉일</th><th scope=col>영화명</th><th scope=col>스크린수</th></tr></thead>\n",
       "<tbody>\n",
       "\t<tr><th scope=row>1985</th><td>20080710              </td><td>좋은놈,나쁜놈,이상한놈</td><td>1                     </td></tr>\n",
       "\t<tr><th scope=row>1990</th><td>20080717              </td><td>좋은놈,나쁜놈,이상한놈</td><td>702                   </td></tr>\n",
       "\t<tr><th scope=row>2000</th><td>20080724              </td><td>좋은놈,나쁜놈,이상한놈</td><td>658                   </td></tr>\n",
       "\t<tr><th scope=row>2005</th><td>20080731              </td><td>좋은놈,나쁜놈,이상한놈</td><td>453                   </td></tr>\n",
       "\t<tr><th scope=row>2015</th><td>20080807              </td><td>좋은놈,나쁜놈,이상한놈</td><td>324                   </td></tr>\n",
       "\t<tr><th scope=row>2026</th><td>20080814              </td><td>좋은놈,나쁜놈,이상한놈</td><td>231                   </td></tr>\n",
       "\t<tr><th scope=row>2036</th><td>20080828              </td><td>좋은놈,나쁜놈,이상한놈</td><td>208                   </td></tr>\n",
       "\t<tr><th scope=row>2048</th><td>20080904              </td><td>좋은놈,나쁜놈,이상한놈</td><td>100                   </td></tr>\n",
       "\t<tr><th scope=row>2057</th><td>20080911              </td><td>좋은놈,나쁜놈,이상한놈</td><td>4                     </td></tr>\n",
       "\t<tr><th scope=row>2065</th><td>20080918              </td><td>좋은놈,나쁜놈,이상한놈</td><td>3                     </td></tr>\n",
       "\t<tr><th scope=row>2088</th><td>20081002              </td><td>좋은놈,나쁜놈,이상한놈</td><td>1                     </td></tr>\n",
       "\t<tr><th scope=row>2140</th><td>20081127              </td><td>좋은놈,나쁜놈,이상한놈</td><td>2                     </td></tr>\n",
       "\t<tr><th scope=row>2150</th><td>20081203              </td><td>좋은놈,나쁜놈,이상한놈</td><td>2                     </td></tr>\n",
       "\t<tr><th scope=row>2435</th><td>20090924              </td><td>좋은놈,나쁜놈,이상한놈</td><td>1                     </td></tr>\n",
       "</tbody>\n",
       "</table>\n"
      ],
      "text/latex": [
       "\\begin{tabular}{r|lll}\n",
       "  & 개봉일 & 영화명 & 스크린수\\\\\n",
       "\\hline\n",
       "\t1985 & 20080710               & 좋은놈,나쁜놈,이상한놈 & 1                     \\\\\n",
       "\t1990 & 20080717               & 좋은놈,나쁜놈,이상한놈 & 702                   \\\\\n",
       "\t2000 & 20080724               & 좋은놈,나쁜놈,이상한놈 & 658                   \\\\\n",
       "\t2005 & 20080731               & 좋은놈,나쁜놈,이상한놈 & 453                   \\\\\n",
       "\t2015 & 20080807               & 좋은놈,나쁜놈,이상한놈 & 324                   \\\\\n",
       "\t2026 & 20080814               & 좋은놈,나쁜놈,이상한놈 & 231                   \\\\\n",
       "\t2036 & 20080828               & 좋은놈,나쁜놈,이상한놈 & 208                   \\\\\n",
       "\t2048 & 20080904               & 좋은놈,나쁜놈,이상한놈 & 100                   \\\\\n",
       "\t2057 & 20080911               & 좋은놈,나쁜놈,이상한놈 & 4                     \\\\\n",
       "\t2065 & 20080918               & 좋은놈,나쁜놈,이상한놈 & 3                     \\\\\n",
       "\t2088 & 20081002               & 좋은놈,나쁜놈,이상한놈 & 1                     \\\\\n",
       "\t2140 & 20081127               & 좋은놈,나쁜놈,이상한놈 & 2                     \\\\\n",
       "\t2150 & 20081203               & 좋은놈,나쁜놈,이상한놈 & 2                     \\\\\n",
       "\t2435 & 20090924               & 좋은놈,나쁜놈,이상한놈 & 1                     \\\\\n",
       "\\end{tabular}\n"
      ],
      "text/markdown": [
       "\n",
       "| <!--/--> | 개봉일 | 영화명 | 스크린수 |\n",
       "|---|---|---|---|\n",
       "| 1985 | 20080710               | 좋은놈,나쁜놈,이상한놈 | 1                      |\n",
       "| 1990 | 20080717               | 좋은놈,나쁜놈,이상한놈 | 702                    |\n",
       "| 2000 | 20080724               | 좋은놈,나쁜놈,이상한놈 | 658                    |\n",
       "| 2005 | 20080731               | 좋은놈,나쁜놈,이상한놈 | 453                    |\n",
       "| 2015 | 20080807               | 좋은놈,나쁜놈,이상한놈 | 324                    |\n",
       "| 2026 | 20080814               | 좋은놈,나쁜놈,이상한놈 | 231                    |\n",
       "| 2036 | 20080828               | 좋은놈,나쁜놈,이상한놈 | 208                    |\n",
       "| 2048 | 20080904               | 좋은놈,나쁜놈,이상한놈 | 100                    |\n",
       "| 2057 | 20080911               | 좋은놈,나쁜놈,이상한놈 | 4                      |\n",
       "| 2065 | 20080918               | 좋은놈,나쁜놈,이상한놈 | 3                      |\n",
       "| 2088 | 20081002               | 좋은놈,나쁜놈,이상한놈 | 1                      |\n",
       "| 2140 | 20081127               | 좋은놈,나쁜놈,이상한놈 | 2                      |\n",
       "| 2150 | 20081203               | 좋은놈,나쁜놈,이상한놈 | 2                      |\n",
       "| 2435 | 20090924               | 좋은놈,나쁜놈,이상한놈 | 1                      |\n",
       "\n"
      ],
      "text/plain": [
       "     개봉일   영화명                 스크린수\n",
       "1985 20080710 좋은놈,나쁜놈,이상한놈 1       \n",
       "1990 20080717 좋은놈,나쁜놈,이상한놈 702     \n",
       "2000 20080724 좋은놈,나쁜놈,이상한놈 658     \n",
       "2005 20080731 좋은놈,나쁜놈,이상한놈 453     \n",
       "2015 20080807 좋은놈,나쁜놈,이상한놈 324     \n",
       "2026 20080814 좋은놈,나쁜놈,이상한놈 231     \n",
       "2036 20080828 좋은놈,나쁜놈,이상한놈 208     \n",
       "2048 20080904 좋은놈,나쁜놈,이상한놈 100     \n",
       "2057 20080911 좋은놈,나쁜놈,이상한놈 4       \n",
       "2065 20080918 좋은놈,나쁜놈,이상한놈 3       \n",
       "2088 20081002 좋은놈,나쁜놈,이상한놈 1       \n",
       "2140 20081127 좋은놈,나쁜놈,이상한놈 2       \n",
       "2150 20081203 좋은놈,나쁜놈,이상한놈 2       \n",
       "2435 20090924 좋은놈,나쁜놈,이상한놈 1       "
      ]
     },
     "metadata": {},
     "output_type": "display_data"
    }
   ],
   "source": [
    "subset(result, (영화명) == \"좋은놈,나쁜놈,이상한놈\")"
   ]
  }
 ],
 "metadata": {
  "kernelspec": {
   "display_name": "Python 3 (ipykernel)",
   "language": "python",
   "name": "python3"
  },
  "language_info": {
   "codemirror_mode": {
    "name": "ipython",
    "version": 3
   },
   "file_extension": ".py",
   "mimetype": "text/x-python",
   "name": "python",
   "nbconvert_exporter": "python",
   "pygments_lexer": "ipython3",
   "version": "3.9.12"
  }
 },
 "nbformat": 4,
 "nbformat_minor": 5
}

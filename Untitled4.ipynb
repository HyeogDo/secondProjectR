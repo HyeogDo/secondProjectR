{
 "cells": [
  {
   "cell_type": "code",
   "execution_count": 4,
   "id": "ffa9622b",
   "metadata": {},
   "outputs": [
    {
     "data": {
      "text/html": [
       "<table>\n",
       "<thead><tr><th scope=col>장르</th><th scope=col>장르점수</th></tr></thead>\n",
       "<tbody>\n",
       "\t<tr><td>공포(호러)    </td><td>10            </td></tr>\n",
       "\t<tr><td>스릴러        </td><td>10            </td></tr>\n",
       "\t<tr><td>코미디        </td><td>10            </td></tr>\n",
       "\t<tr><td>드라마        </td><td>10            </td></tr>\n",
       "\t<tr><td>범죄          </td><td>10            </td></tr>\n",
       "\t<tr><td>미스터리      </td><td>10            </td></tr>\n",
       "\t<tr><td>사극          </td><td>20            </td></tr>\n",
       "\t<tr><td>멜로/로맨스   </td><td>20            </td></tr>\n",
       "\t<tr><td>액션          </td><td>20            </td></tr>\n",
       "\t<tr><td>서부극(웨스턴)</td><td>20            </td></tr>\n",
       "\t<tr><td>전쟁          </td><td>30            </td></tr>\n",
       "\t<tr><td>어드벤처      </td><td>30            </td></tr>\n",
       "\t<tr><td>SF            </td><td>30            </td></tr>\n",
       "</tbody>\n",
       "</table>\n"
      ],
      "text/latex": [
       "\\begin{tabular}{r|ll}\n",
       " 장르 & 장르점수\\\\\n",
       "\\hline\n",
       "\t 공포(호러)     & 10            \\\\\n",
       "\t 스릴러         & 10            \\\\\n",
       "\t 코미디         & 10            \\\\\n",
       "\t 드라마         & 10            \\\\\n",
       "\t 범죄           & 10            \\\\\n",
       "\t 미스터리       & 10            \\\\\n",
       "\t 사극           & 20            \\\\\n",
       "\t 멜로/로맨스    & 20            \\\\\n",
       "\t 액션           & 20            \\\\\n",
       "\t 서부극(웨스턴) & 20            \\\\\n",
       "\t 전쟁           & 30            \\\\\n",
       "\t 어드벤처       & 30            \\\\\n",
       "\t SF             & 30            \\\\\n",
       "\\end{tabular}\n"
      ],
      "text/markdown": [
       "\n",
       "| 장르 | 장르점수 |\n",
       "|---|---|\n",
       "| 공포(호러)     | 10             |\n",
       "| 스릴러         | 10             |\n",
       "| 코미디         | 10             |\n",
       "| 드라마         | 10             |\n",
       "| 범죄           | 10             |\n",
       "| 미스터리       | 10             |\n",
       "| 사극           | 20             |\n",
       "| 멜로/로맨스    | 20             |\n",
       "| 액션           | 20             |\n",
       "| 서부극(웨스턴) | 20             |\n",
       "| 전쟁           | 30             |\n",
       "| 어드벤처       | 30             |\n",
       "| SF             | 30             |\n",
       "\n"
      ],
      "text/plain": [
       "   장르           장르점수\n",
       "1  공포(호러)     10      \n",
       "2  스릴러         10      \n",
       "3  코미디         10      \n",
       "4  드라마         10      \n",
       "5  범죄           10      \n",
       "6  미스터리       10      \n",
       "7  사극           20      \n",
       "8  멜로/로맨스    20      \n",
       "9  액션           20      \n",
       "10 서부극(웨스턴) 20      \n",
       "11 전쟁           30      \n",
       "12 어드벤처       30      \n",
       "13 SF             30      "
      ]
     },
     "metadata": {},
     "output_type": "display_data"
    }
   ],
   "source": [
    "read.csv(\"./genre_score.csv\", fileEncoding = \"utf-8\")"
   ]
  },
  {
   "cell_type": "code",
   "execution_count": 6,
   "id": "a23a04d2",
   "metadata": {
    "scrolled": true
   },
   "outputs": [],
   "source": [
    "data <- read.csv(\"./진짜진짜최종데이터셋.csv\", fileEncoding = \"utf-8\")"
   ]
  },
  {
   "cell_type": "code",
   "execution_count": 7,
   "id": "e18d6ae9",
   "metadata": {},
   "outputs": [
    {
     "data": {
      "text/html": [
       "0.236738553541365"
      ],
      "text/latex": [
       "0.236738553541365"
      ],
      "text/markdown": [
       "0.236738553541365"
      ],
      "text/plain": [
       "[1] 0.2367386"
      ]
     },
     "metadata": {},
     "output_type": "display_data"
    }
   ],
   "source": [
    "cor(data$cluster, data$개봉일스크린수)"
   ]
  }
 ],
 "metadata": {
  "kernelspec": {
   "display_name": "R",
   "language": "R",
   "name": "ir"
  },
  "language_info": {
   "codemirror_mode": "r",
   "file_extension": ".r",
   "mimetype": "text/x-r-source",
   "name": "R",
   "pygments_lexer": "r",
   "version": "3.6.1"
  }
 },
 "nbformat": 4,
 "nbformat_minor": 5
}

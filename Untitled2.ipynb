{
 "cells": [
  {
   "cell_type": "code",
   "execution_count": 1,
   "id": "c8d30f5f",
   "metadata": {},
   "outputs": [],
   "source": [
    "test <- read.csv(\"./진짜진짜최종데이터셋.csv\", fileEncoding = \"utf-8\")"
   ]
  },
  {
   "cell_type": "code",
   "execution_count": 3,
   "id": "b7186bcd",
   "metadata": {},
   "outputs": [
    {
     "data": {
      "image/png": "[encoded data removed]",
      "text/plain": [
       "plot without title"
      ]
     },
     "metadata": {},
     "output_type": "display_data"
    }
   ],
   "source": [
    "plot(test$조연점수)"
   ]
  },
  {
   "cell_type": "code",
   "execution_count": 5,
   "id": "2b79dc13",
   "metadata": {},
   "outputs": [
    {
     "data": {
      "text/html": [
       "<table>\n",
       "<thead><tr><th></th><th scope=col>cluster</th><th scope=col>배급사점수</th><th scope=col>장르점수</th><th scope=col>감독_배우시너지점수</th><th scope=col>주연점수</th><th scope=col>감독점수</th><th scope=col>개봉일스크린수</th><th scope=col>개봉일스크린점유율</th><th scope=col>조연점수</th></tr></thead>\n",
       "<tbody>\n",
       "\t<tr><th scope=row>cluster</th><td>1.0000000   </td><td> 0.119504598</td><td>0.2938910   </td><td> 0.22273102 </td><td>0.6464251   </td><td>0.42316184  </td><td> 0.236738554</td><td>0.30364245  </td><td>0.75750035  </td></tr>\n",
       "\t<tr><th scope=row>배급사점수</th><td>0.1195046   </td><td> 1.000000000</td><td>0.1424967   </td><td>-0.05560081 </td><td>0.2279586   </td><td>0.07741333  </td><td>-0.008884294</td><td>0.05014182  </td><td>0.06128511  </td></tr>\n",
       "\t<tr><th scope=row>장르점수</th><td>0.2938910   </td><td> 0.142496688</td><td>1.0000000   </td><td> 0.16640569 </td><td>0.1380842   </td><td>0.20950164  </td><td> 0.288948774</td><td>0.37271504  </td><td>0.36749476  </td></tr>\n",
       "\t<tr><th scope=row>감독_배우시너지점수</th><td>0.2227310   </td><td>-0.055600808</td><td>0.1664057   </td><td> 1.00000000 </td><td>0.1543465   </td><td>0.31772470  </td><td> 0.355112344</td><td>0.40682621  </td><td>0.33701061  </td></tr>\n",
       "\t<tr><th scope=row>주연점수</th><td>0.6464251   </td><td> 0.227958623</td><td>0.1380842   </td><td> 0.15434646 </td><td>1.0000000   </td><td>0.23063766  </td><td> 0.269348352</td><td>0.32027015  </td><td>0.51109627  </td></tr>\n",
       "\t<tr><th scope=row>감독점수</th><td>0.4231618   </td><td> 0.077413333</td><td>0.2095016   </td><td> 0.31772470 </td><td>0.2306377   </td><td>1.00000000  </td><td> 0.087373655</td><td>0.15876014  </td><td>0.36348825  </td></tr>\n",
       "\t<tr><th scope=row>개봉일스크린수</th><td>0.2367386   </td><td>-0.008884294</td><td>0.2889488   </td><td> 0.35511234 </td><td>0.2693484   </td><td>0.08737366  </td><td> 1.000000000</td><td>0.95969953  </td><td>0.23978602  </td></tr>\n",
       "\t<tr><th scope=row>개봉일스크린점유율</th><td>0.3036424   </td><td> 0.050141821</td><td>0.3727150   </td><td> 0.40682621 </td><td>0.3202702   </td><td>0.15876014  </td><td> 0.959699535</td><td>1.00000000  </td><td>0.29545215  </td></tr>\n",
       "\t<tr><th scope=row>조연점수</th><td>0.7575004   </td><td> 0.061285114</td><td>0.3674948   </td><td> 0.33701061 </td><td>0.5110963   </td><td>0.36348825  </td><td> 0.239786020</td><td>0.29545215  </td><td>1.00000000  </td></tr>\n",
       "</tbody>\n",
       "</table>\n"
      ],
      "text/latex": [
       "\\begin{tabular}{r|lllllllll}\n",
       "  & cluster & 배급사점수 & 장르점수 & 감독\\_배우시너지점수 & 주연점수 & 감독점수 & 개봉일스크린수 & 개봉일스크린점유율 & 조연점수\\\\\n",
       "\\hline\n",
       "\tcluster & 1.0000000    &  0.119504598 & 0.2938910    &  0.22273102  & 0.6464251    & 0.42316184   &  0.236738554 & 0.30364245   & 0.75750035  \\\\\n",
       "\t배급사점수 & 0.1195046    &  1.000000000 & 0.1424967    & -0.05560081  & 0.2279586    & 0.07741333   & -0.008884294 & 0.05014182   & 0.06128511  \\\\\n",
       "\t장르점수 & 0.2938910    &  0.142496688 & 1.0000000    &  0.16640569  & 0.1380842    & 0.20950164   &  0.288948774 & 0.37271504   & 0.36749476  \\\\\n",
       "\t감독\\_배우시너지점수 & 0.2227310    & -0.055600808 & 0.1664057    &  1.00000000  & 0.1543465    & 0.31772470   &  0.355112344 & 0.40682621   & 0.33701061  \\\\\n",
       "\t주연점수 & 0.6464251    &  0.227958623 & 0.1380842    &  0.15434646  & 1.0000000    & 0.23063766   &  0.269348352 & 0.32027015   & 0.51109627  \\\\\n",
       "\t감독점수 & 0.4231618    &  0.077413333 & 0.2095016    &  0.31772470  & 0.2306377    & 1.00000000   &  0.087373655 & 0.15876014   & 0.36348825  \\\\\n",
       "\t개봉일스크린수 & 0.2367386    & -0.008884294 & 0.2889488    &  0.35511234  & 0.2693484    & 0.08737366   &  1.000000000 & 0.95969953   & 0.23978602  \\\\\n",
       "\t개봉일스크린점유율 & 0.3036424    &  0.050141821 & 0.3727150    &  0.40682621  & 0.3202702    & 0.15876014   &  0.959699535 & 1.00000000   & 0.29545215  \\\\\n",
       "\t조연점수 & 0.7575004    &  0.061285114 & 0.3674948    &  0.33701061  & 0.5110963    & 0.36348825   &  0.239786020 & 0.29545215   & 1.00000000  \\\\\n",
       "\\end{tabular}\n"
      ],
      "text/markdown": [
       "\n",
       "| <!--/--> | cluster | 배급사점수 | 장르점수 | 감독_배우시너지점수 | 주연점수 | 감독점수 | 개봉일스크린수 | 개봉일스크린점유율 | 조연점수 |\n",
       "|---|---|---|---|---|---|---|---|---|---|\n",
       "| cluster | 1.0000000    |  0.119504598 | 0.2938910    |  0.22273102  | 0.6464251    | 0.42316184   |  0.236738554 | 0.30364245   | 0.75750035   |\n",
       "| 배급사점수 | 0.1195046    |  1.000000000 | 0.1424967    | -0.05560081  | 0.2279586    | 0.07741333   | -0.008884294 | 0.05014182   | 0.06128511   |\n",
       "| 장르점수 | 0.2938910    |  0.142496688 | 1.0000000    |  0.16640569  | 0.1380842    | 0.20950164   |  0.288948774 | 0.37271504   | 0.36749476   |\n",
       "| 감독_배우시너지점수 | 0.2227310    | -0.055600808 | 0.1664057    |  1.00000000  | 0.1543465    | 0.31772470   |  0.355112344 | 0.40682621   | 0.33701061   |\n",
       "| 주연점수 | 0.6464251    |  0.227958623 | 0.1380842    |  0.15434646  | 1.0000000    | 0.23063766   |  0.269348352 | 0.32027015   | 0.51109627   |\n",
       "| 감독점수 | 0.4231618    |  0.077413333 | 0.2095016    |  0.31772470  | 0.2306377    | 1.00000000   |  0.087373655 | 0.15876014   | 0.36348825   |\n",
       "| 개봉일스크린수 | 0.2367386    | -0.008884294 | 0.2889488    |  0.35511234  | 0.2693484    | 0.08737366   |  1.000000000 | 0.95969953   | 0.23978602   |\n",
       "| 개봉일스크린점유율 | 0.3036424    |  0.050141821 | 0.3727150    |  0.40682621  | 0.3202702    | 0.15876014   |  0.959699535 | 1.00000000   | 0.29545215   |\n",
       "| 조연점수 | 0.7575004    |  0.061285114 | 0.3674948    |  0.33701061  | 0.5110963    | 0.36348825   |  0.239786020 | 0.29545215   | 1.00000000   |\n",
       "\n"
      ],
      "text/plain": [
       "                    cluster   배급사점수   장르점수  감독_배우시너지점수\n",
       "cluster             1.0000000  0.119504598 0.2938910  0.22273102        \n",
       "배급사점수          0.1195046  1.000000000 0.1424967 -0.05560081        \n",
       "장르점수            0.2938910  0.142496688 1.0000000  0.16640569        \n",
       "감독_배우시너지점수 0.2227310 -0.055600808 0.1664057  1.00000000        \n",
       "주연점수            0.6464251  0.227958623 0.1380842  0.15434646        \n",
       "감독점수            0.4231618  0.077413333 0.2095016  0.31772470        \n",
       "개봉일스크린수      0.2367386 -0.008884294 0.2889488  0.35511234        \n",
       "개봉일스크린점유율  0.3036424  0.050141821 0.3727150  0.40682621        \n",
       "조연점수            0.7575004  0.061285114 0.3674948  0.33701061        \n",
       "                    주연점수  감독점수   개봉일스크린수 개봉일스크린점유율\n",
       "cluster             0.6464251 0.42316184  0.236738554   0.30364245        \n",
       "배급사점수          0.2279586 0.07741333 -0.008884294   0.05014182        \n",
       "장르점수            0.1380842 0.20950164  0.288948774   0.37271504        \n",
       "감독_배우시너지점수 0.1543465 0.31772470  0.355112344   0.40682621        \n",
       "주연점수            1.0000000 0.23063766  0.269348352   0.32027015        \n",
       "감독점수            0.2306377 1.00000000  0.087373655   0.15876014        \n",
       "개봉일스크린수      0.2693484 0.08737366  1.000000000   0.95969953        \n",
       "개봉일스크린점유율  0.3202702 0.15876014  0.959699535   1.00000000        \n",
       "조연점수            0.5110963 0.36348825  0.239786020   0.29545215        \n",
       "                    조연점수  \n",
       "cluster             0.75750035\n",
       "배급사점수          0.06128511\n",
       "장르점수            0.36749476\n",
       "감독_배우시너지점수 0.33701061\n",
       "주연점수            0.51109627\n",
       "감독점수            0.36348825\n",
       "개봉일스크린수      0.23978602\n",
       "개봉일스크린점유율  0.29545215\n",
       "조연점수            1.00000000"
      ]
     },
     "metadata": {},
     "output_type": "display_data"
    }
   ],
   "source": [
    "cor(test)"
   ]
  }
 ],
 "metadata": {
  "kernelspec": {
   "display_name": "R",
   "language": "R",
   "name": "ir"
  },
  "language_info": {
   "codemirror_mode": "r",
   "file_extension": ".r",
   "mimetype": "text/x-r-source",
   "name": "R",
   "pygments_lexer": "r",
   "version": "3.6.1"
  }
 },
 "nbformat": 4,
 "nbformat_minor": 5
}
